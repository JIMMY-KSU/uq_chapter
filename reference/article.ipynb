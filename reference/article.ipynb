{
 "metadata": {
  "name": "",
  "signature": "sha256:003120653e39dd63c23b5b06ad9c98ea4d767fe87a5c68c0bfb7c058c075cd33"
 },
 "nbformat": 3,
 "nbformat_minor": 0,
 "worksheets": [
  {
   "cells": [
    {
     "cell_type": "markdown",
     "metadata": {},
     "source": [
      "# Probabilistic Programming in Python using PyMC\n",
      "\n",
      "## Abstract\n",
      "Probabilistic Programming (PP) allows flexible specification of statistical Bayesian models in code. PyMC3 is a new, open-source PP framework that features next generation Markov chain Monte Carlo (MCMC) sampling algorithms such as Hamiltonian Monte Carlo (HMC). In contrast to most other PP frameworks, PyMC3 allows model specification in Python using intuitive syntax. The software itself is written in pure Python which makes it very extensible. The model specification is transparently transcoded via Theano to C and compiled to machine code for maximum speed. Theano also natively supports automatic differentation for computing the gradient required for HMC. In addition, PyMC3 supports parallel sampling natively and allows saving traces to various backends including sqlite. Special syntax for describing general linear models allow for specification of hierarchical multifactor models into oneliners."
     ]
    },
    {
     "cell_type": "markdown",
     "metadata": {},
     "source": [
      "# 1. Getting started\n",
      "\n",
      "## Installation\n",
      "\n",
      "As PyMC3 is written in pure Python, installation is thus greatly simplified over PyMC2 which required compilation of Fortran code. PyMC3 has the following dependencies: `Theano`, `NumPy`, `SciPy`, and `Matplotlib`; as well as the following optional dependencies: `Pandas`, `Patsy`, `Statsmodels`.\n",
      "\n",
      "The code is hosted on GitHub at https://github.com/pymc-devs/pymc and is distributed under the liberal [Apache License 2.0](https://github.com/pymc-devs/pymc/blob/master/LICENSE) and contributions are encouraged.\n",
      "\n",
      "A complete Python installation can most easily be obtained by installing the free [`Anaconda Python Distribution`](https://store.continuum.io/cshop/anaconda/) by ContinuumIO. After successfull installation, `PyMC3` can be installed using `pip`:\n",
      "```\n",
      "pip install git+https://github.com/pymc-devs/pymc\n",
      "```\n",
      "\n",
      "## Model specification\n",
      "Consider the following linear Bayesian model:\n",
      "$$ \\alpha \\sim \\mathcal{N}(0, 1) $$\n",
      "$$ \\beta \\sim \\mathcal{N}(0, 1) $$\n",
      "$$ \\epsilon \\sim \\mathcal{U}(0, 1) $$\n",
      "$$ Y  \\sim \\mathcal{N}(\\alpha + X \\beta, \\epsilon) $$\n",
      "\n",
      "where $X$ is a vector of predictors, and $Y$ is a vector outcome variable; $\\alpha$ the intercept, and $\\beta$ the slope regression coefficients, and $\\epsilon$ the error term.\n",
      "\n",
      "The data might look as follows:"
     ]
    },
    {
     "cell_type": "code",
     "collapsed": false,
     "input": [
      "def print_public(module):\n",
      "    import pprint\n",
      "    pprint.pprint([name for name in dir(module) if not name.startswith('_')])"
     ],
     "language": "python",
     "metadata": {},
     "outputs": [],
     "prompt_number": 50
    },
    {
     "cell_type": "code",
     "collapsed": false,
     "input": [
      "import numpy as np\n",
      "size = 100\n",
      "X = np.linspace(0, 1, size)\n",
      "alpha = 1\n",
      "beta = 1\n",
      "Y = alpha + X*beta + np.random.randn(size)"
     ],
     "language": "python",
     "metadata": {},
     "outputs": [],
     "prompt_number": 2
    },
    {
     "cell_type": "code",
     "collapsed": false,
     "input": [
      "%matplotlib inline\n",
      "import matplotlib.pyplot as plt\n",
      "plt.scatter(X, Y)"
     ],
     "language": "python",
     "metadata": {},
     "outputs": [
      {
       "metadata": {},
       "output_type": "pyout",
       "prompt_number": 3,
       "text": [
        "<matplotlib.collections.PathCollection at 0x7f15449c6350>"
       ]
      },
      {
       "metadata": {},
       "output_type": "display_data",
       "png": "[encoded data removed]",
       "text": [
        "<matplotlib.figure.Figure at 0x7f1545608f50>"
       ]
      }
     ],
     "prompt_number": 3
    },
    {
     "cell_type": "code",
     "collapsed": false,
     "input": [
      "import pymc as pm\n",
      "\n",
      "with pm.Model() as model:\n",
      "    alpha = pm.Normal('alpha', mu=0, sd=1)\n",
      "    beta = pm.Normal('beta', mu=0, sd=1)\n",
      "    eps = pm.Uniform('eps', lower=0, upper=1)\n",
      "    Y_obs = pm.Normal('Y_obs', mu=alpha + beta * X, sd=eps, observed=Y)"
     ],
     "language": "python",
     "metadata": {},
     "outputs": [],
     "prompt_number": 7
    },
    {
     "cell_type": "markdown",
     "metadata": {},
     "source": [
      "As you can see, with a few minor modifications, specification of this model in Python code using `PyMC3` closely follows the statistical model printed above. `PyMC3` comes with most commonly used discrete and continuous probability distributions:"
     ]
    },
    {
     "cell_type": "code",
     "collapsed": false,
     "input": [
      "print_public(pm.distributions)"
     ],
     "language": "python",
     "metadata": {},
     "outputs": [
      {
       "output_type": "stream",
       "stream": "stdout",
       "text": [
        "['Bernoulli',\n",
        " 'Beta',\n",
        " 'BetaBin',\n",
        " 'Binomial',\n",
        " 'Bound',\n",
        " 'Categorical',\n",
        " 'Cauchy',\n",
        " 'ChiSquared',\n",
        " 'ConstantDist',\n",
        " 'Continuous',\n",
        " 'DensityDist',\n",
        " 'Dirichlet',\n",
        " 'Discrete',\n",
        " 'DiscreteUniform',\n",
        " 'Distribution',\n",
        " 'Exponential',\n",
        " 'Flat',\n",
        " 'Gamma',\n",
        " 'Geometric',\n",
        " 'HalfCauchy',\n",
        " 'HalfNormal',\n",
        " 'InverseGamma',\n",
        " 'Laplace',\n",
        " 'Lognormal',\n",
        " 'Multinomial',\n",
        " 'MvNormal',\n",
        " 'NegativeBinomial',\n",
        " 'Normal',\n",
        " 'Pareto',\n",
        " 'Poisson',\n",
        " 'T',\n",
        " 'Tpos',\n",
        " 'Uniform',\n",
        " 'Wald',\n",
        " 'Weibull',\n",
        " 'Wishart',\n",
        " 'ZeroInflatedPoisson',\n",
        " 'continuous',\n",
        " 'discrete',\n",
        " 'dist_math',\n",
        " 'distribution',\n",
        " 'logtransform',\n",
        " 'meta',\n",
        " 'multivariate',\n",
        " 'simplextransform',\n",
        " 'special',\n",
        " 'timeseries',\n",
        " 'transform',\n",
        " 'transforms']\n"
       ]
      }
     ],
     "prompt_number": 51
    },
    {
     "cell_type": "markdown",
     "metadata": {},
     "source": [
      "The first argument is the name of the random variable (RV). Following arguments specify the priors of the distribution which are described in the doc string:"
     ]
    },
    {
     "cell_type": "code",
     "collapsed": false,
     "input": [
      "help(pm.Normal)"
     ],
     "language": "python",
     "metadata": {},
     "outputs": [
      {
       "output_type": "stream",
       "stream": "stdout",
       "text": [
        "Help on class Normal in module pymc.distributions.continuous:\n",
        "\n",
        "class Normal(pymc.distributions.distribution.Continuous)\n",
        " |  Normal log-likelihood.\n",
        " |  \n",
        " |  .. math::\n",
        " |      f(x \\mid \\mu,   au) = \\sqrt{\f",
        "rac{       au}{2\\pi}} \\exp\\left\\{ -\f",
        "rac{   au}{2} (x-\\mu)^2 \r",
        "ight\\}\n",
        " |  \n",
        " |  Parameters\n",
        " |  ----------\n",
        " |  mu : float\n",
        " |      Mean of the distribution.\n",
        " |  tau : float\n",
        " |      Precision of the distribution, which corresponds to\n",
        " |      :math:`1/\\sigma^2` (tau > 0).\n",
        " |  sd : float\n",
        " |      Standard deviation of the distribution. Alternative parameterization.\n",
        " |  \n",
        " |  .. note::\n",
        " |  - :math:`E(X) = \\mu`\n",
        " |  - :math:`Var(X) = 1/        au`\n",
        " |  \n",
        " |  Method resolution order:\n",
        " |      Normal\n",
        " |      pymc.distributions.distribution.Continuous\n",
        " |      pymc.distributions.distribution.Distribution\n",
        " |      __builtin__.object\n",
        " |  \n",
        " |  Methods defined here:\n",
        " |  \n",
        " |  __init__(self, mu=0.0, tau=None, sd=None, *args, **kwargs)\n",
        " |  \n",
        " |  logp(self, value)\n",
        " |  \n",
        " |  ----------------------------------------------------------------------\n",
        " |  Methods inherited from pymc.distributions.distribution.Distribution:\n",
        " |  \n",
        " |  __getnewargs__(self)\n",
        " |  \n",
        " |  default(self)\n",
        " |  \n",
        " |  get_test_val(self, val, defaults)\n",
        " |  \n",
        " |  ----------------------------------------------------------------------\n",
        " |  Class methods inherited from pymc.distributions.distribution.Distribution:\n",
        " |  \n",
        " |  dist(cls, *args, **kwargs) from __builtin__.type\n",
        " |  \n",
        " |  ----------------------------------------------------------------------\n",
        " |  Static methods inherited from pymc.distributions.distribution.Distribution:\n",
        " |  \n",
        " |  __new__(cls, name, *args, **kwargs)\n",
        " |  \n",
        " |  ----------------------------------------------------------------------\n",
        " |  Data descriptors inherited from pymc.distributions.distribution.Distribution:\n",
        " |  \n",
        " |  __dict__\n",
        " |      dictionary for instance variables (if defined)\n",
        " |  \n",
        " |  __weakref__\n",
        " |      list of weak references to the object (if defined)\n",
        "\n"
       ]
      }
     ],
     "prompt_number": 36
    },
    {
     "cell_type": "markdown",
     "metadata": {},
     "source": [
      "Make special note of the `observed` keyword argument supplied here:\n",
      "```python\n",
      "    Y_obs = pm.Normal('Y_obs', mu=alpha + beta * X, sd=eps, observed=Y)\n",
      "```\n",
      "\n",
      "This argument expects a `numpy.ndarray` object or a `pandas.DataFrame` and turns Y_obs into a likelihood function."
     ]
    },
    {
     "cell_type": "markdown",
     "metadata": {},
     "source": [
      "Also note that this command executes very fast. That's because no computation has taken place yet (more on this below).\n",
      "\n",
      "Finally, let's take a look at this line:\n",
      "```python\n",
      "with pm.Model() as model:\n",
      "```\n",
      "\n",
      "First, the `with` statement instantiates a new `pm.Model()` object and binds it to `model`. Moreover, the `with` statement modifies how each indentend function below it (i.e. same context) gets called. Specifically, each function in the context gets passed in the `model` object. The code above would thus be equivalent to:"
     ]
    },
    {
     "cell_type": "code",
     "collapsed": false,
     "input": [
      "model_wo_context = pm.Model()\n",
      "alpha = pm.Normal('alpha', 0, 1, model=model_wo_context)\n",
      "beta = pm.Normal('beta', 0, 1, model=model_wo_context)\n",
      "eps = pm.Uniform('eps', 0, 1, model=model_wo_context)\n",
      "Y_obs = pm.Normal('Y_obs', alpha + beta * X, observed=Y, model=model_wo_context)"
     ],
     "language": "python",
     "metadata": {},
     "outputs": []
    },
    {
     "cell_type": "markdown",
     "metadata": {},
     "source": [
      "As you can see, the `with` statement provides syntactic sugar and binds all RVs to a common container. `PyMC2` required all RVs to be passed as a `list` to a new `Model` object."
     ]
    },
    {
     "cell_type": "markdown",
     "metadata": {},
     "source": [
      "`Theano` has advanced matrix notation capabilities that enable `PyMC3` to handle multivariate statistics, including advanced indexing and slicing. Using matrix algebra, the above model can succinctly be rewritten as:"
     ]
    },
    {
     "cell_type": "code",
     "collapsed": false,
     "input": [
      "import theano.tensor as T\n",
      "\n",
      "# Turn X into a 2-D array with a column of 1s for the intercept\n",
      "X_1 = np.vstack([np.ones_like(X), X])\n",
      "\n",
      "with pm.Model() as model_matrix:\n",
      "    theta = pm.Normal('theta', 0, 1, shape=(2, 1))\n",
      "    eps = pm.Uniform('eps', 0, 1)\n",
      "    Y_obs = pm.Normal('Y_obs', T.dot(theta.T, X_1), observed=Y)"
     ],
     "language": "python",
     "metadata": {},
     "outputs": [],
     "prompt_number": 15
    },
    {
     "cell_type": "markdown",
     "metadata": {},
     "source": [
      "The `shape` kwarg turns theta into random vector with 2 elements, both of which are distributed according to the standard normal distribution.\n",
      "\n",
      "To perform the reduction in the `Y_obs` instantiaion we use the `theano` `dot()` function to compute the dot product. At this point it is worth noting that RVs in `PyMC3` behave like `theano` expressions which makes them very versatile. For example, using `theano`'s sigmoid function from the neural net (`nnet`) submodule we can easily turn this linear regression into a logistic regression:"
     ]
    },
    {
     "cell_type": "code",
     "collapsed": false,
     "input": [
      "# Turn X into a 2-D array with a column of 1s for the intercept\n",
      "Y_logistic = Y > np.median(Y) # Binarize Y by splitting at the 50% percentile\n",
      "\n",
      "with pm.Model() as model_logistic:\n",
      "    theta = pm.Normal('theta', 0, 1, shape=(2, 1))\n",
      "    eps = pm.Uniform('eps', 0, 1)\n",
      "    Y_obs = pm.Bernoulli('Y_obs', p=T.nnet.sigmoid(T.dot(theta.T, X_1)), \n",
      "                         observed=Y_logistic)"
     ],
     "language": "python",
     "metadata": {},
     "outputs": [],
     "prompt_number": 41
    },
    {
     "cell_type": "markdown",
     "metadata": {},
     "source": [
      "Further below we describe how more complex GLMs can easily be created in one line using the `glm` submodule of `PyMC3` but let us first turn our attention to inference."
     ]
    },
    {
     "cell_type": "markdown",
     "metadata": {},
     "source": [
      "## Inference"
     ]
    },
    {
     "cell_type": "markdown",
     "metadata": {},
     "source": [
      "As mentioned above, the code examples above have not actually performed any computation. All what was done was to compute -- behind the scenes -- a `theano` expression graph that allows computation of the summed log probability of the model. On demand, we can ask `theano` to perform algebraic simplifications and compile the symbolic computation graph to C-code and then natively using the system's `gcc` compiler. All of this functionality happens transparently and does not burden the `PyMC3` code base. \n",
      "\n",
      "To actually run MCMC sampling to generate posterior samples we have instantiate a step object that corresponds to a certain kind of MCMC. The `pymc.step_methods` submodule contains the following samplers, as well as proposal distributions:"
     ]
    },
    {
     "cell_type": "code",
     "collapsed": false,
     "input": [
      "print_public(pm.step_methods)"
     ],
     "language": "python",
     "metadata": {},
     "outputs": [
      {
       "output_type": "stream",
       "stream": "stdout",
       "text": [
        "['BinaryMetropolis',\n",
        " 'CauchyProposal',\n",
        " 'CompoundStep',\n",
        " 'ElemwiseCategoricalStep',\n",
        " 'HamiltonianMC',\n",
        " 'LaplaceProposal',\n",
        " 'Metropolis',\n",
        " 'MultivariateNormalProposal',\n",
        " 'NUTS',\n",
        " 'NormalProposal',\n",
        " 'PoissonProposal',\n",
        " 'Slice',\n",
        " 'arraystep',\n",
        " 'compound',\n",
        " 'gibbs',\n",
        " 'hmc',\n",
        " 'metropolis',\n",
        " 'nuts',\n",
        " 'quadpotential',\n",
        " 'slicer']\n"
       ]
      }
     ],
     "prompt_number": 52
    },
    {
     "cell_type": "markdown",
     "metadata": {},
     "source": [
      "As you can see, `PyMC3` supports all samplers that are commonly included in other propalistic programming frameworks like `BUGS` or `JAGS`, including Metropolis Hastings with various proposal distributions and Slice sampling. Of special note are the new class of Hamiltonian Monte Carlo samplers like `HamiltonianMC` as well as the auto-tuned version of it -- the No-U-Turn Sampler (`NUTS`). This last sampling algorithm is one of the main selling points of the new `stan` MCMC package (CITE)."
     ]
    }
   ],
   "metadata": {}
  }
 ]
}