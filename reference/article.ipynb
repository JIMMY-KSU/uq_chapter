{
 "metadata": {
  "kernelspec": {
   "display_name": "IPython (Python 2)",
   "name": "python2"
  },
  "language_info": {
   "codemirror_mode": {
    "name": "ipython",
    "version": 2
   },
   "file_extension": ".py",
   "mimetype": "text/x-python",
   "name": "python",
   "nbconvert_exporter": "python",
   "pygments_lexer": "ipython2",
   "version": "2.7.8"
  },
  "name": "",
  "signature": "sha256:e6ce6389894bac3d9fce7a06af1cd5cd6273f16c2fb991f1a5c98503e72de71c"
 },
 "nbformat": 3,
 "nbformat_minor": 0,
 "worksheets": [
  {
   "cells": [
    {
     "cell_type": "markdown",
     "metadata": {},
     "source": [
      "# Probabilistic Programming in Python using PyMC\n",
      "\n",
      "Authors: John Salvatier, Thomas V. Wiecki, Christopher Fonnesbeck\n",
      "\n",
      "## Introduction\n",
      "Probabilistic Programming (PP) allows flexible specification of statistical Bayesian models in code. PyMC3 is a new, open-source PP framework that features next generation Markov chain Monte Carlo (MCMC) sampling algorithms such as Hamiltonian Monte Carlo (HMC; Duane 87). This class of sampler allows PP to work on models that previously where extremely challenging to estimate because of their high dimensionality or complex posterior distribution. As such, PyMC3, together with the Stan () package, is currently the only PP package to offer HMC.\n",
      "\n",
      "In contrast to most other PP frameworks, PyMC3 allows model specification in Python () using intuitive syntax. The software itself is written in pure Python which makes it very extensible. The model specification is transparently transcoded via Theano () to C and compiled to machine code for maximum speed. Theano also natively supports automatic differentation for computing the gradient required for HMC. \n",
      "\n",
      "In addition, PyMC3 supports parallel sampling natively and allows saving traces to various backends including sqlite. Special syntax for describing general linear models allow for specification of hierarchical multifactor models into oneliners."
     ]
    },
    {
     "cell_type": "markdown",
     "metadata": {},
     "source": [
      "## Features\n",
      "\n",
      "PyMC3 features:\n",
      "\n",
      "  * Intuitive model specification syntax, for example, x ~ N(0,1) translates to x = Normal(0,1)\n",
      "  *  Powerful sampling algorithms such as Hamiltonian Monte Carlo\n",
      "  *  Easy optimization for finding the maximum a posteriori point\n",
      "  *  Theano features\n",
      "    *   Numpy broadcasting and advanced indexing\n",
      "    *   Linear algebra operators\n",
      "    *   Computation optimization and dynamic C compilation\n",
      "  * Simple extensibility\n"
     ]
    },
    {
     "cell_type": "markdown",
     "metadata": {},
     "source": [
      "## Installation\n",
      "\n",
      "PyMC3 is a complete rewrite of PyMC version 2. As PyMC3 is written in pure Python, installation is thus greatly simplified over PyMC2 which required compilation of Fortran code. \n",
      "\n",
      "PyMC3 has the following dependencies: `Theano`, `NumPy`, `SciPy`, and `Matplotlib`; as well as the following optional dependencies: `Pandas` and `Patsy`.\n",
      "\n",
      "The code is hosted on GitHub at https://github.com/pymc-devs/pymc and is distributed under the liberal [Apache License 2.0](https://github.com/pymc-devs/pymc/blob/master/LICENSE) and contributions are encouraged.\n",
      "\n",
      "A complete Python installation can most easily be obtained by installing the free [`Anaconda Python Distribution`](https://store.continuum.io/cshop/anaconda/) by ContinuumIO. After successfull installation, `PyMC3` can be installed using `pip`:\n",
      "```\n",
      "pip install git+https://github.com/pymc-devs/pymc\n",
      "```\n",
      "\n",
      "## Model specification\n",
      "Consider the following linear Bayesian model:\n",
      "$$ \\alpha \\sim \\mathcal{N}(0, 1) $$\n",
      "$$ \\beta \\sim \\mathcal{N}(0, 1) $$\n",
      "$$ \\sigma \\sim \\lvert\\mathcal{N}(0, 1) {\\rvert}$$\n",
      "$$ Y  \\sim \\mathcal{N}(\\alpha + X \\beta, \\epsilon) $$\n",
      "\n",
      "where $X$ is a vector of predictors, and $Y$ is a vector outcome variable; $\\alpha$ the intercept, and $\\beta$ the slope regression coefficients which follow a standard normal distribution. $\\sigma$ represents the error term and is modeled as the absolute of a Normal distribution (so-called *HalfNormal*).\n",
      "\n",
      "The data might look as follows:"
     ]
    },
    {
     "cell_type": "code",
     "collapsed": false,
     "input": [
      "import numpy as np\n",
      "np.random.seed(123)\n",
      "size = 100\n",
      "X = np.linspace(0, 1, size)\n",
      "alpha = 1\n",
      "beta = 1\n",
      "Y = alpha + X*beta + np.random.randn(size)\n",
      "\n",
      "# Define helper function\n",
      "def print_public(module):\n",
      "    import pprint\n",
      "    pprint.pprint([name for name in dir(module) if not name.startswith('_')])"
     ],
     "language": "python",
     "metadata": {},
     "outputs": [],
     "prompt_number": 2
    },
    {
     "cell_type": "code",
     "collapsed": false,
     "input": [
      "%matplotlib inline\n",
      "import matplotlib.pyplot as plt\n",
      "plt.scatter(X, Y)"
     ],
     "language": "python",
     "metadata": {},
     "outputs": [
      {
       "metadata": {},
       "output_type": "pyout",
       "prompt_number": 3,
       "text": [
        "<matplotlib.collections.PathCollection at 0x7ff7e5360610>"
       ]
      },
      {
       "metadata": {},
       "output_type": "display_data",
       "png": "[encoded data removed]",
       "text": [
        "<matplotlib.figure.Figure at 0x7ff7e54b7250>"
       ]
      }
     ],
     "prompt_number": 3
    },
    {
     "cell_type": "code",
     "collapsed": false,
     "input": [
      "import pymc3 as pm\n",
      "\n",
      "with pm.Model() as model_linear:\n",
      "    alpha = pm.Normal('alpha', mu=0, sd=1)\n",
      "    beta = pm.Normal('beta', mu=0, sd=1)\n",
      "    sigma = pm.HalfNormal('sigma', sd=1)\n",
      "    Y_obs = pm.Normal('Y_obs', mu=alpha + beta * X, sd=sigma, observed=Y)"
     ],
     "language": "python",
     "metadata": {},
     "outputs": [
      {
       "output_type": "stream",
       "stream": "stderr",
       "text": [
        "ERROR (theano.sandbox.cuda): nvcc compiler not found on $PATH. Check your nvcc installation and try again.\n"
       ]
      },
      {
       "output_type": "stream",
       "stream": "stderr",
       "text": [
        "ERROR:theano.sandbox.cuda:nvcc compiler not found on $PATH. Check your nvcc installation and try again.\n"
       ]
      },
      {
       "output_type": "stream",
       "stream": "stdout",
       "text": [
        "Couldn't import dot_parser, loading of dot files will not be possible.\n"
       ]
      }
     ],
     "prompt_number": 4
    },
    {
     "cell_type": "markdown",
     "metadata": {},
     "source": [
      "As you can see, with a few minor modifications, specification of this model in Python code using `PyMC3` closely follows the statistical model printed above. `PyMC3` comes with most commonly used discrete and continuous probability distributions:"
     ]
    },
    {
     "cell_type": "code",
     "collapsed": false,
     "input": [
      "print_public(pm.distributions)"
     ],
     "language": "python",
     "metadata": {},
     "outputs": [
      {
       "output_type": "stream",
       "stream": "stdout",
       "text": [
        "['Bernoulli',\n",
        " 'Beta',\n",
        " 'BetaBin',\n",
        " 'Binomial',\n",
        " 'Bound',\n",
        " 'Categorical',\n",
        " 'Cauchy',\n",
        " 'ChiSquared',\n",
        " 'ConstantDist',\n",
        " 'Continuous',\n",
        " 'DensityDist',\n",
        " 'Dirichlet',\n",
        " 'Discrete',\n",
        " 'DiscreteUniform',\n",
        " 'Distribution',\n",
        " 'Exponential',\n",
        " 'Flat',\n",
        " 'Gamma',\n",
        " 'Geometric',\n",
        " 'HalfCauchy',\n",
        " 'HalfNormal',\n",
        " 'InverseGamma',\n",
        " 'LKJCorr',\n",
        " 'Laplace',\n",
        " 'Lognormal',\n",
        " 'Multinomial',\n",
        " 'MvNormal',\n",
        " 'NegativeBinomial',\n",
        " 'Normal',\n",
        " 'Pareto',\n",
        " 'Poisson',\n",
        " 'T',\n",
        " 'Tpos',\n",
        " 'Uniform',\n",
        " 'Wald',\n",
        " 'Weibull',\n",
        " 'Wishart',\n",
        " 'ZeroInflatedPoisson',\n",
        " 'continuous',\n",
        " 'discrete',\n",
        " 'dist_math',\n",
        " 'distribution',\n",
        " 'logtransform',\n",
        " 'meta',\n",
        " 'multivariate',\n",
        " 'simplextransform',\n",
        " 'special',\n",
        " 'timeseries',\n",
        " 'transform',\n",
        " 'transforms']\n"
       ]
      }
     ],
     "prompt_number": 5
    },
    {
     "cell_type": "markdown",
     "metadata": {},
     "source": [
      "The first argument is the name of the random variable (RV). Following arguments specify the priors of the distribution which are described in the doc string:"
     ]
    },
    {
     "cell_type": "code",
     "collapsed": false,
     "input": [
      "help(pm.Normal)"
     ],
     "language": "python",
     "metadata": {},
     "outputs": [
      {
       "output_type": "stream",
       "stream": "stdout",
       "text": [
        "Help on class Normal in module pymc3.distributions.continuous:\n",
        "\n",
        "class Normal(pymc3.distributions.distribution.Continuous)\n",
        " |  Normal log-likelihood.\n",
        " |  \n",
        " |  .. math::\n",
        " |      f(x \\mid \\mu,   au) = \\sqrt{\f",
        "rac{       au}{2\\pi}} \\exp\\left\\{ -\f",
        "rac{   au}{2} (x-\\mu)^2 \r",
        "ight\\}\n",
        " |  \n",
        " |  Parameters\n",
        " |  ----------\n",
        " |  mu : float\n",
        " |      Mean of the distribution.\n",
        " |  tau : float\n",
        " |      Precision of the distribution, which corresponds to\n",
        " |      :math:`1/\\sigma^2` (tau > 0).\n",
        " |  sd : float\n",
        " |      Standard deviation of the distribution. Alternative parameterization.\n",
        " |  \n",
        " |  .. note::\n",
        " |  - :math:`E(X) = \\mu`\n",
        " |  - :math:`Var(X) = 1/        au`\n",
        " |  \n",
        " |  Method resolution order:\n",
        " |      Normal\n",
        " |      pymc3.distributions.distribution.Continuous\n",
        " |      pymc3.distributions.distribution.Distribution\n",
        " |      __builtin__.object\n",
        " |  \n",
        " |  Methods defined here:\n",
        " |  \n",
        " |  __init__(self, mu=0.0, tau=None, sd=None, *args, **kwargs)\n",
        " |  \n",
        " |  logp(self, value)\n",
        " |  \n",
        " |  ----------------------------------------------------------------------\n",
        " |  Methods inherited from pymc3.distributions.distribution.Distribution:\n",
        " |  \n",
        " |  __getnewargs__(self)\n",
        " |  \n",
        " |  default(self)\n",
        " |  \n",
        " |  get_test_val(self, val, defaults)\n",
        " |  \n",
        " |  ----------------------------------------------------------------------\n",
        " |  Class methods inherited from pymc3.distributions.distribution.Distribution:\n",
        " |  \n",
        " |  dist(cls, *args, **kwargs) from __builtin__.type\n",
        " |  \n",
        " |  ----------------------------------------------------------------------\n",
        " |  Static methods inherited from pymc3.distributions.distribution.Distribution:\n",
        " |  \n",
        " |  __new__(cls, name, *args, **kwargs)\n",
        " |  \n",
        " |  ----------------------------------------------------------------------\n",
        " |  Data descriptors inherited from pymc3.distributions.distribution.Distribution:\n",
        " |  \n",
        " |  __dict__\n",
        " |      dictionary for instance variables (if defined)\n",
        " |  \n",
        " |  __weakref__\n",
        " |      list of weak references to the object (if defined)\n",
        "\n"
       ]
      }
     ],
     "prompt_number": 6
    },
    {
     "cell_type": "markdown",
     "metadata": {},
     "source": [
      "Make special note of the `observed` keyword argument supplied here:\n",
      "```python\n",
      "    Y_obs = pm.Normal('Y_obs', mu=alpha + beta * X, sd=eps, observed=Y)\n",
      "```\n",
      "\n",
      "This argument expects a `numpy.ndarray` object or a `pandas.DataFrame` and turns Y_obs into a likelihood function."
     ]
    },
    {
     "cell_type": "markdown",
     "metadata": {},
     "source": [
      "Also note that this command executes very fast. That's because no computation has taken place yet (more on this below).\n",
      "\n",
      "Finally, let's take a look at this line:\n",
      "```python\n",
      "with pm.Model() as model:\n",
      "```\n",
      "\n",
      "First, the `with` statement instantiates a new `pm.Model()` object and binds it to `model`. Moreover, the `with` statement puts this `model` object in a context variable where it is access from inside upon instantiation of the RVs which register themselves to `model`."
     ]
    },
    {
     "cell_type": "markdown",
     "metadata": {},
     "source": [
      "`Theano` has advanced matrix notation capabilities that enable `PyMC3` to handle multivariate statistics, including advanced indexing and slicing. Using matrix algebra, the above model can succinctly be rewritten as:"
     ]
    },
    {
     "cell_type": "code",
     "collapsed": false,
     "input": [
      "import theano.tensor as T\n",
      "\n",
      "# Turn X into a 2-D array with a column of 1s for the intercept\n",
      "X_1 = np.vstack([np.ones_like(X), X])\n",
      "\n",
      "with pm.Model() as model_matrix:\n",
      "    theta = pm.Normal('theta', 0, 1, shape=(2, 1))\n",
      "    sigma = pm.HalfNormal('sigma', sd=1)\n",
      "    Y_obs = pm.Normal('Y_obs', T.dot(theta.T, X_1), sd=sigma, observed=Y)"
     ],
     "language": "python",
     "metadata": {},
     "outputs": [],
     "prompt_number": 7
    },
    {
     "cell_type": "markdown",
     "metadata": {},
     "source": [
      "The `shape` kwarg turns theta into random vector with 2 elements, both of which are distributed according to the standard normal distribution.\n",
      "\n",
      "To perform the reduction in the `Y_obs` instantiaion we use the `theano` `dot()` function to compute the dot product. At this point it is worth noting that RVs in `PyMC3` behave like `theano` expressions which makes them very versatile. For example, using `theano`'s sigmoid function from the neural net (`nnet`) submodule we can easily turn this linear regression into a logistic regression:"
     ]
    },
    {
     "cell_type": "code",
     "collapsed": false,
     "input": [
      "# Turn X into a 2-D array with a column of 1s for the intercept\n",
      "Y_logistic = Y > np.median(Y) # Binarize Y by splitting at the 50% percentile\n",
      "\n",
      "with pm.Model() as model_logistic:\n",
      "    theta = pm.Normal('theta', 0, 1, shape=(2, 1))\n",
      "    logistic = T.nnet.sigmoid(T.dot(theta.T, X_1))\n",
      "    Y_obs = pm.Bernoulli('Y_obs', p=logistic, \n",
      "                         observed=Y_logistic)"
     ],
     "language": "python",
     "metadata": {},
     "outputs": [],
     "prompt_number": 8
    },
    {
     "cell_type": "markdown",
     "metadata": {},
     "source": [
      "Further below we describe how more complex GLMs can easily be created in one line using the `glm` submodule of `PyMC3` but let us first turn our attention to inference.\n",
      "\n",
      "### Note on Random Variables and Probability Distributions\n",
      "As a final note on model specification, `PyMC3` differentiates between RVs and probability distributions. A RV is specified by a probability distribution, but its also associated to a model and has a specific name -- those are the ones we created above. Probability distributions, however, can exist outside of a pymc model and don't need names. By default, a call to `pm.Normal()` as used above creates a RV but we can also create just the probability distribution by using the `.dist` classmethod:"
     ]
    },
    {
     "cell_type": "code",
     "collapsed": false,
     "input": [
      "normal_dist = pm.Normal.dist(mu=0, sd=1)\n",
      "theano_expr = normal_dist.logp(np.array([0, .1]))\n",
      "theano_expr"
     ],
     "language": "python",
     "metadata": {},
     "outputs": [
      {
       "metadata": {},
       "output_type": "pyout",
       "prompt_number": 9,
       "text": [
        "Elemwise{switch,no_inplace}.0"
       ]
      }
     ],
     "prompt_number": 9
    },
    {
     "cell_type": "markdown",
     "metadata": {},
     "source": [
      "As you can see, by default the `logp` method only returns a `theano` expression graph. We have to call `.eval()` to actually force `theano` to evaluate the expression graph and compute a value:"
     ]
    },
    {
     "cell_type": "code",
     "collapsed": false,
     "input": [
      "theano_expr.eval()"
     ],
     "language": "python",
     "metadata": {},
     "outputs": [
      {
       "metadata": {},
       "output_type": "pyout",
       "prompt_number": 10,
       "text": [
        "array([-0.91893858, -0.92393858])"
       ]
      }
     ],
     "prompt_number": 10
    },
    {
     "cell_type": "heading",
     "level": 2,
     "metadata": {},
     "source": [
      "Inference"
     ]
    },
    {
     "cell_type": "markdown",
     "metadata": {},
     "source": [
      "As mentioned above, the code examples above have not actually performed any computation. All what was done was to compute -- behind the scenes -- a `theano` expression graph that allows computation of the summed log probability of the model. On demand, we can ask `theano` to perform algebraic simplifications and compile the symbolic computation graph to C-code and then natively using the system's `gcc` compiler. All of this functionality happens transparently and does not burden the `PyMC3` code base. "
     ]
    },
    {
     "cell_type": "markdown",
     "metadata": {},
     "source": [
      "A central issue to achieving good convergence is selection of a good starting point to initialize the samplers. `PyMC3` offers optimization routines to estimate the maximum aposterior (MAP) which is often a sensible choice as a starting value."
     ]
    },
    {
     "cell_type": "code",
     "collapsed": false,
     "input": [
      "with model_matrix:\n",
      "    start = pm.find_MAP()\n",
      "print(start)"
     ],
     "language": "python",
     "metadata": {},
     "outputs": [
      {
       "output_type": "stream",
       "stream": "stdout",
       "text": [
        "{'theta': array([[ 1.03304301],\n",
        "       [ 0.96214923]]), 'sigma': array(1.121419937570133)}\n"
       ]
      }
     ],
     "prompt_number": 11
    },
    {
     "cell_type": "markdown",
     "metadata": {},
     "source": [
      "By default, `PyMC3` uses BFGS optimization but also allows selection of other optimization algorithms from the `scipy` module:"
     ]
    },
    {
     "cell_type": "code",
     "collapsed": false,
     "input": [
      "from scipy import optimize\n",
      "with model_matrix:\n",
      "    start = pm.find_MAP(fmin=optimize.fmin_powell)\n",
      "print(start)"
     ],
     "language": "python",
     "metadata": {},
     "outputs": [
      {
       "output_type": "stream",
       "stream": "stdout",
       "text": [
        "{'theta': array([[ 1.03338202],\n",
        "       [ 0.9618749 ]]), 'sigma': array(1.120789176854089)}\n"
       ]
      }
     ],
     "prompt_number": 12
    },
    {
     "cell_type": "markdown",
     "metadata": {},
     "source": [
      "To actually run MCMC sampling to generate posterior samples we have instantiate a step object that corresponds to a certain kind of MCMC. The `pymc.step_methods` submodule contains the following samplers, as well as proposal distributions:"
     ]
    },
    {
     "cell_type": "code",
     "collapsed": false,
     "input": [
      "print_public(pm.step_methods)"
     ],
     "language": "python",
     "metadata": {},
     "outputs": [
      {
       "output_type": "stream",
       "stream": "stdout",
       "text": [
        "['BinaryMetropolis',\n",
        " 'CauchyProposal',\n",
        " 'CompoundStep',\n",
        " 'ElemwiseCategoricalStep',\n",
        " 'HamiltonianMC',\n",
        " 'LaplaceProposal',\n",
        " 'Metropolis',\n",
        " 'MultivariateNormalProposal',\n",
        " 'NUTS',\n",
        " 'NormalProposal',\n",
        " 'PoissonProposal',\n",
        " 'Slice',\n",
        " 'arraystep',\n",
        " 'compound',\n",
        " 'gibbs',\n",
        " 'hmc',\n",
        " 'metropolis',\n",
        " 'nuts',\n",
        " 'quadpotential',\n",
        " 'slicer']\n"
       ]
      }
     ],
     "prompt_number": 13
    },
    {
     "cell_type": "markdown",
     "metadata": {},
     "source": [
      "As you can see, `PyMC3` supports all samplers that are commonly included in other propalistic programming frameworks like `BUGS` or `JAGS`, including Metropolis Hastings with various proposal distributions and Slice sampling. Of special note are the new class of Hamiltonian Monte Carlo samplers like `HamiltonianMC` as well as the auto-tuned version of it -- the No-U-Turn Sampler (`NUTS`). This last sampling algorithm is one of the main selling points of the new `stan` MCMC package (CITE). These Hamiltonian samplers require evaluation of the gradient, something that requires differentation of the logp of the model. Fortunately, `theano` already supports gradient computation via automatic differentation on the compute graph that `PyMC3` creates."
     ]
    },
    {
     "cell_type": "code",
     "collapsed": false,
     "input": [
      "with model_matrix:\n",
      "    step = pm.NUTS(scaling=start) # instantiate sampler\n",
      "    trace = pm.sample(500, step, start=start) # draw 500 posterior samplers"
     ],
     "language": "python",
     "metadata": {},
     "outputs": [
      {
       "output_type": "stream",
       "stream": "stdout",
       "text": [
        "\r",
        " [-----------      30%                  ] 150 of 500 complete in 0.5 sec"
       ]
      },
      {
       "output_type": "stream",
       "stream": "stdout",
       "text": [
        "\r",
        " [-----------------82%-----------       ] 413 of 500 complete in 1.0 sec"
       ]
      },
      {
       "output_type": "stream",
       "stream": "stdout",
       "text": [
        "\r",
        " [-----------------100%-----------------] 500 of 500 complete in 1.2 sec"
       ]
      },
      {
       "output_type": "stream",
       "stream": "stderr",
       "text": [
        "/home/wiecki/envs/pymc3/local/lib/python2.7/site-packages/theano/gof/cmodule.py:290: RuntimeWarning: numpy.ndarray size changed, may indicate binary incompatibility\n",
        "  rval = __import__(module_name, {}, {}, [module_name])\n"
       ]
      }
     ],
     "prompt_number": 14
    },
    {
     "cell_type": "markdown",
     "metadata": {},
     "source": [
      "As `NUTS` requires a scaling matrix we can either compute the Hessian using `pm.find_hessian()` or pass in a point from which `NUTS` will compute a diagonal scaling matrix.\n",
      "\n",
      "The returned `trace` object can be queried in a similar way as a `dict` containing a map from RVs to `numpy.array`s:"
     ]
    },
    {
     "cell_type": "code",
     "collapsed": false,
     "input": [
      "trace['theta'][-3:]"
     ],
     "language": "python",
     "metadata": {},
     "outputs": [
      {
       "metadata": {},
       "output_type": "pyout",
       "prompt_number": 15,
       "text": [
        "array([[[ 0.80804963],\n",
        "        [ 1.17275333]],\n",
        "\n",
        "       [[ 1.08009287],\n",
        "        [ 0.51776559]],\n",
        "\n",
        "       [[ 1.06203901],\n",
        "        [ 1.14217182]]])"
       ]
      }
     ],
     "prompt_number": 15
    },
    {
     "cell_type": "markdown",
     "metadata": {},
     "source": [
      "As mentioned above, we can also run multiple chains in parallel to speed up sampling:"
     ]
    },
    {
     "cell_type": "code",
     "collapsed": false,
     "input": [
      "with model_matrix:\n",
      "    step = pm.NUTS(scaling=start) # instantiate sampler\n",
      "    trace = pm.sample(500, step, start=start, njobs=4) # draw 500 posterior samplers"
     ],
     "language": "python",
     "metadata": {},
     "outputs": [
      {
       "output_type": "stream",
       "stream": "stdout",
       "text": [
        "\r",
        " [------------     31%                  ] 158 of 500 complete in 0.5 sec\r",
        " [-----------------66%-----             ] 332 of 500 complete in 1.0 sec\r",
        " [-----------------97%----------------  ] 485 of 500 complete in 1.5 sec\r",
        " [-----------------100%-----------------] 500 of 500 complete in 1.6 sec"
       ]
      }
     ],
     "prompt_number": 16
    },
    {
     "cell_type": "markdown",
     "metadata": {},
     "source": [
      "Behind the scenes, `PyMC3` will launch multiple Python processes using the `multiprocessing` module, pickle the model object, distribute it to the workers, and gather the samples in a `MultiTrace` backend. The resulting `trace` object will have four chains associated with it:"
     ]
    },
    {
     "cell_type": "code",
     "collapsed": false,
     "input": [
      "trace"
     ],
     "language": "python",
     "metadata": {},
     "outputs": [
      {
       "metadata": {},
       "output_type": "pyout",
       "prompt_number": 17,
       "text": [
        "<MultiTrace: 4 chains, 500 iterations, 2 variables>"
       ]
      }
     ],
     "prompt_number": 17
    },
    {
     "cell_type": "markdown",
     "metadata": {},
     "source": [
      "Which can be accessed as a list of numpy arrays:"
     ]
    },
    {
     "cell_type": "code",
     "collapsed": false,
     "input": [
      "trace['theta'][1][-5:]"
     ],
     "language": "python",
     "metadata": {},
     "outputs": [
      {
       "metadata": {},
       "output_type": "pyout",
       "prompt_number": 18,
       "text": [
        "array([[[ 1.26367118],\n",
        "        [ 0.87525757]],\n",
        "\n",
        "       [[ 0.93641738],\n",
        "        [ 0.97220751]],\n",
        "\n",
        "       [[ 1.00821326],\n",
        "        [ 1.15866087]],\n",
        "\n",
        "       [[ 0.66061191],\n",
        "        [ 1.2726555 ]],\n",
        "\n",
        "       [[ 0.9490708 ],\n",
        "        [ 1.4254324 ]]])"
       ]
      }
     ],
     "prompt_number": 18
    },
    {
     "cell_type": "markdown",
     "metadata": {},
     "source": [
      "More details on the backend can be found further below."
     ]
    },
    {
     "cell_type": "heading",
     "level": 2,
     "metadata": {},
     "source": [
      "Posterior analysis"
     ]
    },
    {
     "cell_type": "markdown",
     "metadata": {},
     "source": [
      "`PyMC3` comes with various statistical and plotting capabilities to examine the output. A simple posterior plot can be created using `pm.traceplot`:"
     ]
    },
    {
     "cell_type": "code",
     "collapsed": false,
     "input": [
      "pm.traceplot(trace, );"
     ],
     "language": "python",
     "metadata": {},
     "outputs": [
      {
       "metadata": {},
       "output_type": "display_data",
       "png": "[encoded data removed]",
       "text": [
        "<matplotlib.figure.Figure at 0x7ff7c0b38210>"
       ]
      }
     ],
     "prompt_number": 19
    },
    {
     "cell_type": "markdown",
     "metadata": {},
     "source": [
      "The left column consists of a kernel density estimation (KDE) of the marginal posterios of each RV while the right column contains the trace. As we ran four chains, each subplot will have 4 differently colored lines, one corresponding to each chain. Because `theta` is a 2-D RV we see two (times four) posteriors in the top row. This allows easy visual inspection of all chains converged to the same posterior."
     ]
    },
    {
     "cell_type": "markdown",
     "metadata": {},
     "source": [
      "A forest plot allows for a more succint overview of the posteriors as well as their Gelman-Rubin $\\hat{R}$ score (CITE):"
     ]
    },
    {
     "cell_type": "code",
     "collapsed": false,
     "input": [
      "pm.forestplot(trace)"
     ],
     "language": "python",
     "metadata": {},
     "outputs": [
      {
       "metadata": {},
       "output_type": "pyout",
       "prompt_number": 20,
       "text": [
        "<matplotlib.gridspec.GridSpec at 0x7ff7ba34b690>"
       ]
      },
      {
       "metadata": {},
       "output_type": "display_data",
       "png": "[encoded data removed]",
       "text": [
        "<matplotlib.figure.Figure at 0x7ff7ba34b590>"
       ]
      }
     ],
     "prompt_number": 20
    },
    {
     "cell_type": "markdown",
     "metadata": {},
     "source": [
      "In addition, `pm.stats.summary()` provides a text-based output of common posterior statistics:"
     ]
    },
    {
     "cell_type": "code",
     "collapsed": false,
     "input": [
      "pm.stats.summary(trace)"
     ],
     "language": "python",
     "metadata": {},
     "outputs": [
      {
       "output_type": "stream",
       "stream": "stdout",
       "text": [
        "\n",
        "theta:\n",
        " \n",
        "  Mean             SD               MC Error         95% HPD interval\n",
        "  -------------------------------------------------------------------\n",
        "  ..............................[0, :]...............................\n",
        "  1.038            0.208            0.008            [0.629, 1.429]\n",
        "  ..............................[1, :]...............................\n",
        "  0.948            0.347            0.013            [0.261, 1.599]\n",
        "\n",
        "  Posterior quantiles:\n",
        "  2.5            25             50             75             97.5\n",
        "  |--------------|==============|==============|--------------|\n",
        "  .............................[0, :].............................\n",
        "  0.650          0.896          1.034          1.175          1.457\n",
        "  .............................[1, :].............................\n",
        "  0.242          0.718          0.953          1.192          1.597\n",
        "\n",
        "\n",
        "sigma:\n",
        " \n",
        "  Mean             SD               MC Error         95% HPD interval\n",
        "  -------------------------------------------------------------------\n",
        "  \n",
        "  1.150            0.083            0.002            [0.990, 1.304]\n",
        "\n",
        "  Posterior quantiles:\n",
        "  2.5            25             50             75             97.5\n",
        "  |--------------|==============|==============|--------------|\n",
        "  \n",
        "  1.004          1.087          1.147          1.204          1.326\n",
        "\n"
       ]
      }
     ],
     "prompt_number": 21
    },
    {
     "cell_type": "markdown",
     "metadata": {},
     "source": [
      "Here the 2-D RV is split into its individual components.\n",
      "\n",
      "As you can see, `PyMC3` handles multiple chains as well as multivariate statistics natively."
     ]
    },
    {
     "cell_type": "markdown",
     "metadata": {},
     "source": [
      "## Backends\n",
      "\n",
      "`PyMC3` has support for a small but growing number of backends to store traces in. These can be found in `pymc.backends`:"
     ]
    },
    {
     "cell_type": "code",
     "collapsed": false,
     "input": [
      "print_public(pm.backends)"
     ],
     "language": "python",
     "metadata": {},
     "outputs": [
      {
       "output_type": "stream",
       "stream": "stdout",
       "text": [
        "['NDArray', 'SQLite', 'Text', 'base', 'ndarray', 'sqlite', 'text']\n"
       ]
      }
     ],
     "prompt_number": 22
    },
    {
     "cell_type": "markdown",
     "metadata": {},
     "source": [
      "By default, an in-memory `ndarray` is used but if the samples would get too large to be held in memory we could use the `sqlite` backend:"
     ]
    },
    {
     "cell_type": "code",
     "collapsed": false,
     "input": [
      "with model_matrix:\n",
      "    backend = pm.backends.SQLite('trace.sqlite')\n",
      "    trace = pm.sample(500, step, start=start, trace=backend)"
     ],
     "language": "python",
     "metadata": {},
     "outputs": [
      {
       "output_type": "stream",
       "stream": "stdout",
       "text": [
        "\r",
        " [---------------- 44%                  ] 221 of 500 complete in 0.5 sec"
       ]
      },
      {
       "output_type": "stream",
       "stream": "stdout",
       "text": [
        "\r",
        " [-----------------100%-----------------] 500 of 500 complete in 1.0 sec"
       ]
      }
     ],
     "prompt_number": 23
    },
    {
     "cell_type": "markdown",
     "metadata": {},
     "source": [
      "The stored trace can then later be loaded using the `load` command:"
     ]
    },
    {
     "cell_type": "code",
     "collapsed": false,
     "input": [
      "with model_matrix:\n",
      "    trace_loaded = pm.backends.sqlite.load('trace.sqlite')\n",
      "    \n",
      "trace_loaded "
     ],
     "language": "python",
     "metadata": {},
     "outputs": [
      {
       "metadata": {},
       "output_type": "pyout",
       "prompt_number": 24,
       "text": [
        "<MultiTrace: 1 chains, 500 iterations, 3 variables>"
       ]
      }
     ],
     "prompt_number": 24
    },
    {
     "cell_type": "markdown",
     "metadata": {},
     "source": [
      "More information about `backends` can be found in the docstring of `pymc.backends`."
     ]
    },
    {
     "cell_type": "markdown",
     "metadata": {},
     "source": [
      "## Defining arbitrary stochastic distributions\n",
      "\n",
      "`PyMC3` supports two methods to define new distributions:\n",
      "\n",
      "###1. Defining a distribution as a theano expression\n",
      "\n",
      "By using `pymc.DensityDist` you can define new log probability functions that can be used like any other RV. The following is an example inspired by a blog post by Jake Vanderplas on which priors to use for a linear regression. (https://jakevdp.github.io/blog/2014/06/14/frequentism-and-bayesianism-4-bayesian-in-python/). For more detail on the derivation of these priors we refer to the blog post. The code to use these custom priors is as follows:"
     ]
    },
    {
     "cell_type": "code",
     "collapsed": false,
     "input": [
      "import theano.tensor as T\n",
      "\n",
      "with pm.Model() as model:\n",
      "    alpha = pm.Uniform('intercept', -100, 100)\n",
      "    # Create custom densities\n",
      "    beta = pm.DensityDist('slope', lambda value: -1.5 * T.log(1 + value**2), testval=0)\n",
      "    eps = pm.DensityDist('sigma', lambda value: -T.log(T.abs_(value)), testval=1)\n",
      "    # Create likelihood\n",
      "    like = pm.Normal('y_est', mu=alpha + beta * X, sd=eps, observed=Y)"
     ],
     "language": "python",
     "metadata": {},
     "outputs": [],
     "prompt_number": 25
    },
    {
     "cell_type": "markdown",
     "metadata": {},
     "source": [
      "As you can see, `DensityDist` takes a function (here we are using an anonymous `lambda` function) that takes the parameter value as input and returns the log probability for that setting."
     ]
    },
    {
     "cell_type": "markdown",
     "metadata": {},
     "source": [
      "### 2. Defining a distribution as a blackbox function\n",
      "\n",
      "Above we used `theano` to define the math of the probability function. However, often it might not be possible to write a probability distributions as a `theano` expression. This is the case in many scientific fields including psychology and astrophysics where the likelihood functions are often a model of the process in question and has a complex form that might require numerical approximation. As the rest of `PyMC3` still expects a `theano` expression we have to wrap a function as a blackbox `theano` expression. This is possible with the `as_op` decorator. As a simple example we can reformulate the above distribution for `beta` to only use `numpy` internally. "
     ]
    },
    {
     "cell_type": "code",
     "collapsed": false,
     "input": [
      "import theano\n",
      "\n",
      "@theano.compile.ops.as_op(itypes=[T.dscalar], otypes=[T.dscalar])\n",
      "def beta_prior(value):\n",
      "    return -1.5 * np.log(1 + value**2)"
     ],
     "language": "python",
     "metadata": {},
     "outputs": [],
     "prompt_number": 26
    },
    {
     "cell_type": "markdown",
     "metadata": {},
     "source": [
      "As can be seen, the decorator requires definition of the input and output types. For an overview of the available types, see http://deeplearning.net/software/theano/library/tensor/basic.html#all-fully-typed-constructors.\n",
      "\n",
      "**Note**: Because this function is now a blackbox function it is not possible for `theano` to inspect it and compute the gradient required for the Hamiltonian samplers. It is thus not possible to use the `HMC` or `NUTS` samplers for a model that uses such a distribution and you have to use e.g. `Metropolis` or `Slice` sampling.\n",
      "\n",
      "For a more elaborate example of the usage of `as_op` we refer to the coal mining disaster model: https://github.com/pymc-devs/pymc/blob/master/pymc/examples/disaster_model_arbitrary_deterministic.py."
     ]
    },
    {
     "cell_type": "markdown",
     "metadata": {},
     "source": [
      "## Parameter Transformations\n",
      "\n",
      "To ease the sampling process it is often advisable to transform certain variables. For example, scale parameters can only be positive and thus have a sharp edge at 0 in their posterior probability. This often creates problems for samples, especially those that require the gradient because of non-differentiable areas in the posterior. Parameter transformation can remedy this problem. For example, log-transforming a scale variable allows us to sample across the whole parameter space. `PyMC3` supports transformations by calling the `model.TransformedVar` method:"
     ]
    },
    {
     "cell_type": "code",
     "collapsed": false,
     "input": [
      "with pm.Model() as model_linear:\n",
      "    alpha = pm.Normal('alpha', mu=0, sd=1)\n",
      "    beta = pm.Normal('beta', mu=0, sd=1)\n",
      "    \n",
      "    sigma, log_sigma = model.TransformedVar('sigma', \n",
      "                                            pm.HalfNormal.dist(sd=1, testval=.1),\n",
      "                                            pm.logtransform)\n",
      "    \n",
      "    Y_obs = pm.Normal('Y_obs', mu=alpha + beta * X, sd=sigma, observed=Y)"
     ],
     "language": "python",
     "metadata": {},
     "outputs": [],
     "prompt_number": 33
    },
    {
     "cell_type": "markdown",
     "metadata": {},
     "source": [
      "Of special note is that `TransformedVar` returns two distributions: one variable in the transformed space and one in the original space. The one in the transformed space (here `log(sigma)`) is the one over which sampling will occur in an unconstrained manner, and the one in the original space is the one to use throughout the rest of the model."
     ]
    },
    {
     "cell_type": "markdown",
     "metadata": {},
     "source": [
      "## Deterministic transformations\n",
      "\n",
      "Above you have already seen that RVs in `PyMC3` can be easily combined and transformed (see the logistic regression example above). These transformations are called *deterministic*. However, note that in the above example we do not retain the samples of our transformed values (i.e. the `d`).  Using the `Deterministic` class we can explicitly add these deterministic variables to the trace."
     ]
    },
    {
     "cell_type": "code",
     "collapsed": false,
     "input": [],
     "language": "python",
     "metadata": {},
     "outputs": []
    },
    {
     "cell_type": "markdown",
     "metadata": {},
     "source": [
      "# Generalized Linear Models\n",
      "\n",
      "Generalized Linear Models (GLMs) are a class of widely used and flexible models to estimate relationships between a single outcome variable and one or multiple predictors. Above we have built Bayesian versions of linear as well as logistic regression. Because these models are so common, `PyMC3` offers a `glm` submodule that allows flexible creation of various GLMs with an intuitive `R`-like syntax that is implemented via the `patsy` module.\n",
      "\n",
      "As the `glm` submodule requires data to be a `pandas` `DataFrame` we first have to convert `X` and `Y`:"
     ]
    },
    {
     "cell_type": "code",
     "collapsed": false,
     "input": [
      "# Convert X and Y to a pandas DataFrame\n",
      "import pandas as pd\n",
      "df = pd.DataFrame({'x': X, 'y': Y})"
     ],
     "language": "python",
     "metadata": {},
     "outputs": []
    },
    {
     "cell_type": "markdown",
     "metadata": {},
     "source": [
      "The above linear regression can then equivalently be written with the `glm` module as follows:"
     ]
    },
    {
     "cell_type": "code",
     "collapsed": false,
     "input": [
      "with pm.Model() as model_glm:\n",
      "    pm.glm.glm('y ~ x', df)"
     ],
     "language": "python",
     "metadata": {},
     "outputs": [],
     "prompt_number": 35
    },
    {
     "cell_type": "markdown",
     "metadata": {},
     "source": [
      "The `glm` doc string provides an overview of the capabilities."
     ]
    },
    {
     "cell_type": "code",
     "collapsed": false,
     "input": [
      "help(pm.glm.glm)"
     ],
     "language": "python",
     "metadata": {},
     "outputs": [
      {
       "output_type": "stream",
       "stream": "stdout",
       "text": [
        "Help on function glm in module pymc3.glm.glm:\n",
        "\n",
        "glm(*args, **kwargs)\n",
        "    Create GLM after Patsy model specification string.\n",
        "    \n",
        "    Parameters\n",
        "    ----------\n",
        "    formula : str\n",
        "        Patsy linear model descriptor.\n",
        "    data : array\n",
        "        Labeled array (e.g. pandas DataFrame, recarray).\n",
        "    priors : dict\n",
        "        Mapping prior name to prior distribution.\n",
        "        E.g. {'Intercept': Normal.dist(mu=0, sd=1)}\n",
        "    intercept_prior : pymc3 distribution\n",
        "        Prior to use for the intercept.\n",
        "        Default: Normal.dist(mu=0, tau=1.0E-12)\n",
        "    regressor_prior : pymc3 distribution\n",
        "        Prior to use for all regressor(s).\n",
        "        Default: Normal.dist(mu=0, tau=1.0E-12)\n",
        "    init_vals : dict\n",
        "        Set starting values externally: parameter -> value\n",
        "        Default: None\n",
        "    family : Family object\n",
        "        Distribution of likelihood, see pymc3.glm.families\n",
        "        (init has to be True).\n",
        "    \n",
        "    Output\n",
        "    ------\n",
        "    vars : List of created random variables (y_est, coefficients etc)\n",
        "    \n",
        "    Example\n",
        "    -------\n",
        "    # Logistic regression\n",
        "    vars = glm('male ~ height + weight',\n",
        "               data,\n",
        "               family=glm.families.Binomial(link=glm.families.logit))\n",
        "\n"
       ]
      }
     ],
     "prompt_number": 2
    },
    {
     "cell_type": "markdown",
     "metadata": {},
     "source": [
      "We can thus also specify a logistic regression by passing in a `Binomial` family object."
     ]
    },
    {
     "cell_type": "code",
     "collapsed": false,
     "input": [
      "df_logistic = pd.DataFrame({'x': X, 'y': Y_logistic})\n",
      "\n",
      "with pm.Model() as model_glm_logistic:\n",
      "    pm.glm.glm('y ~ x', \n",
      "               df_logistic,\n",
      "               family=pm.glm.families.Binomial()\n",
      "    )"
     ],
     "language": "python",
     "metadata": {},
     "outputs": []
    },
    {
     "cell_type": "markdown",
     "metadata": {},
     "source": [
      "## Conclusions\n",
      "\n",
      "PyMC3 offers state-of-the-art sampling algorithms including Hamiltonian Monte Carlo. PyMC3 is also fast due to just-in-time compilation of the model to C, mathematical simplifications of the and caching of previously computed values we gain speed by just-in-time compilation of the model log-likelihood and it's gradient to C,  automatic gradient calculation"
     ]
    },
    {
     "cell_type": "markdown",
     "metadata": {},
     "source": [
      "## References\n",
      "\n",
      "Patil, A., D. Huard and C.J. Fonnesbeck. (2010) PyMC: Bayesian Stochastic Modelling in Python. Journal of Statistical Software, 35(4), pp. 1-81\n",
      "\n",
      "Bastien, F., Lamblin, P., Pascanu, R., Bergstra, J., Goodfellow, I., Bergeron, A., Bouchard, N., Warde-Farley, D., and Bengio, Y. (2012) \u201cTheano: new features and speed improvements\u201d. NIPS 2012 deep learning workshop.\n",
      "\n",
      "Bergstra, J., Breuleux, O., Bastien, F., Lamblin, P., Pascanu, R., Desjardins, G., Turian, J., Warde-Farley, D., and Bengio, Y. (2010) \u201cTheano: A CPU and GPU Math Expression Compiler\u201d. Proceedings of the Python for Scientific Computing Conference (SciPy) 2010. June 30 - July 3, Austin, TX\n",
      "\n",
      "Lunn, D.J., Thomas, A., Best, N., and Spiegelhalter, D. (2000) WinBUGS -- a Bayesian modelling framework: concepts, structure, and extensibility. Statistics and Computing, 10:325--337.\n",
      "\n",
      "Neal, R.M. Slice sampling. Annals of Statistics. (2003). doi:10.2307/3448413.\n",
      "\n",
      "van Rossum, G. The Python Library Reference Release 2.6.5., (2010). URL http://docs. python.org/library/.\n",
      "\n",
      "Duane, S., Kennedy, A. D., Pendleton, B. J., and Roweth, D. (1987) \u201cHybrid Monte Carlo\u201d, Physics Letters, vol. 195, pp. 216-222.\n",
      "\n",
      "Stan Development Team. (2014). Stan: A C++ Library for Probability and Sampling, Version 2.5.0.   http://mc-stan.org. \n",
      "\n",
      "Gamerman, D. Markov Chain Monte Carlo: statistical simulation for Bayesian inference. Chapman and Hall, 1997.\n",
      "\n",
      "Hoffman, M. D., & Gelman, A. (2014). The No-U-Turn Sampler: Adaptively Setting Path Lengths in Hamiltonian Monte Carlo. The Journal of Machine Learning Research, 30."
     ]
    }
   ],
   "metadata": {}
  }
 ]
}