{
 "cells": [
  {
   "cell_type": "markdown",
   "metadata": {},
   "source": [
    "# Probabilistic Programming in Python using PyMC\n",
    "\n",
    "Authors: John Salvatier, Thomas V. Wiecki, Christopher Fonnesbeck\n",
    "\n",
    "## Introduction\n",
    "Probabilistic Programming (PP) allows flexible specification of statistical Bayesian models in code. PyMC3 is a new, open-source PP framework that features next generation Markov chain Monte Carlo (MCMC) sampling algorithms such as Hamiltonian Monte Carlo (HMC; Duane 87). This class of sampler works well on high dimensional and complex posterior distributions, which were previously extremely challenging to estimate. PyMC3 and the Stan () package, are currently the only PP packages to offer HMC.\n",
    "\n",
    "In contrast to most other PP frameworks, PyMC3 allows model specification in Python using an intuitive, readable syntax that is close to the natural syntax statisticians use to describe models. Implementing a probabilistic programming system in Python confers a number of advantages including multi-platform compatibility, ease of use (particularly for non-computer scientists), and extensibility. While most of PyMC3 is written in pure Python, it relies on Theano (Bergstra et al., 2010) to transparently transcode models to C and compile it to machine code, thereby boosting performance. Additionally, Theano natively supports automatic differentation for computing gradients, which is required to implement modern gradient-based sampling algorithms, such as Hamilitonian Monte Carlo (HMC) and the No U-Turn Sampler (NUTS).\n",
    "\n",
    "PyMC3 is a complete rewrite of PyMC version 2 (Patil et al. 2010), which is engineered to take advantage of the expression evaluation engine of Theano, while retaining the concise, approachable syntax of previous versions. Importantly, implementing PyMC in Theano obivated the need for the large library Fortran extensions required by PyMC2 which made installing the software inconvenient for many users. Moreover, the incorporation of the Patsy package has allowed for the specification of general linear models with hierarchical structure into one-line expressions. "
   ]
  },
  {
   "cell_type": "markdown",
   "metadata": {},
   "source": [
    "Key PyMC3 features include:\n",
    "\n",
    "  * Intuitive model specification syntax, for example, x ~ N(0,1) translates to x = Normal(0,1)\n",
    "  * Powerful sampling algorithms such as Hamiltonian Monte Carlo\n",
    "  * Easy optimization for finding the maximum a posteriori point\n",
    "  * Theano features\n",
    "    *   Numpy broadcasting and advanced indexing\n",
    "    *   Linear algebra operators\n",
    "    *   Computation optimization and dynamic C compilation\n",
    "  * Simple extensibility\n",
    "  * Database backends for storing simulation output\n",
    "  * Parallel sampling\n"
   ]
  },
  {
   "cell_type": "markdown",
   "metadata": {},
   "source": [
    "## Installation\n",
    "\n",
    "Running PyMC requires a working Python interpreter, either version 2.7 (or more recent) or 3.4 (or more recent); we recommend that new users install version 3.4. A complete Python installation for Mac OSX, Linux and Windows can most easily be obtained by downloading the free [`Anaconda Python Distribution`](https://store.continuum.io/cshop/anaconda/) by ContinuumIO, and installing it. \n",
    "\n",
    "Prior to installing PyMC3, there are several third-party Python packages upon which it depends. The four required dependencies are: `Theano`, `NumPy`, `SciPy`, and `Matplotlib`. To take full advantage of PyMC, the optional dependencies `Pandas` and `Patsy` should also be installed. The source code for PyMC is hosted on GitHub at https://github.com/pymc-devs/pymc and is distributed under the liberal [Apache License 2.0](https://github.com/pymc-devs/pymc/blob/master/LICENSE). On the GitHub site, users may also report bugs and other issues, as well as contribute code to the project, which we actively encourage.\n",
    "\n",
    "After successfull installation, `PyMC3` can be installed using `pip`:\n",
    "\n",
    "```\n",
    "pip install git+https://github.com/pymc-devs/pymc3\n",
    "```\n",
    "\n",
    "\n",
    "## Model specification\n",
    "\n",
    "Consider the following basic Bayesian model for linear regression with normal priors for the parameters:\n",
    "\n",
    "$$\\begin{aligned} \n",
    "Y  &\\sim \\mathcal{N}(\\alpha + X \\beta, \\sigma) \\\\\n",
    "\\alpha &\\sim \\mathcal{N}(0, 1) \\\\\n",
    "\\beta &\\sim \\mathcal{N}(0, 1) \\\\\n",
    "\\sigma &\\sim \\lvert\\mathcal{N}(0, 1){\\rvert}\n",
    "\\end{aligned}$$\n",
    "\n",
    "where $X$ is a vector of predictors, and $Y$ is a vector outcome variable; $\\alpha$ the intercept, and $\\beta$ the slope regression coefficients which follow a standard normal distribution. $\\sigma$ represents the error term and is modeled as the absolute of a Normal distribution (so-called *HalfNormal*).\n",
    "\n",
    "We can simulate some data from this model using only NumPy (no PyMC), and then use PyMC to estimate the corresponding parameters.\n",
    "The structure of the generation code closely follows the PyMC model construction."
   ]
  },
  {
   "cell_type": "code",
   "execution_count": 39,
   "metadata": {
    "collapsed": false
   },
   "outputs": [],
   "source": [
    "import numpy as np\n",
    "\n",
    "# Intialize random number generator\n",
    "np.random.seed(123)\n",
    "\n",
    "# Size of dataset\n",
    "size = 100\n",
    "\n",
    "# Predictor variable\n",
    "X = np.linspace(0, 1, size)\n",
    "\n",
    "# True parameter values\n",
    "alpha, beta = 1, 1\n",
    "\n",
    "# Simulate outcome variable\n",
    "Y = alpha + X*beta + np.random.randn(size)"
   ]
  },
  {
   "cell_type": "markdown",
   "metadata": {},
   "source": [
    "Here is what the simulated data look like."
   ]
  },
  {
   "cell_type": "code",
   "execution_count": 40,
   "metadata": {
    "collapsed": false
   },
   "outputs": [
    {
     "data": {
      "image/png": "[encoded data removed]",
      "text/plain": [
       "<matplotlib.figure.Figure at 0xf7e0f2c>"
      ]
     },
     "metadata": {},
     "output_type": "display_data"
    }
   ],
   "source": [
    "%matplotlib inline\n",
    "import pylab as pl\n",
    "\n",
    "pl.scatter(X, Y);"
   ]
  },
  {
   "cell_type": "markdown",
   "metadata": {},
   "source": [
    "Implementing the model in PyMC3 is straightforward because the syntax is as close to writing pseudo-code as possible. For the most part, each line of Python code corresponds to each line in the model notation above. First, let's import the components we will need from PyMC."
   ]
  },
  {
   "cell_type": "code",
   "execution_count": 41,
   "metadata": {
    "collapsed": false
   },
   "outputs": [],
   "source": [
    "from pymc3 import Model, Normal, HalfNormal"
   ]
  },
  {
   "cell_type": "markdown",
   "metadata": {},
   "source": [
    "Now we build our model as follows and call it `model_linear`. "
   ]
  },
  {
   "cell_type": "code",
   "execution_count": 52,
   "metadata": {
    "collapsed": false
   },
   "outputs": [],
   "source": [
    "with Model() as model_linear:\n",
    "    \n",
    "    # Unknown model parameters\n",
    "    alpha = Normal('alpha', mu=0, sd=1)\n",
    "    beta = Normal('beta', mu=0, sd=1)\n",
    "    sigma = HalfNormal('sigma', sd=1)\n",
    "    \n",
    "    # Expected value of outcome\n",
    "    mu = alpha.sum() + beta * X\n",
    "    \n",
    "    # Data likelihood\n",
    "    Y_obs = Normal('Y_obs', mu=mu, sd=sigma, observed=Y)"
   ]
  },
  {
   "cell_type": "markdown",
   "metadata": {},
   "source": [
    "Each of `alpha`, `beta` and `sigma` are **stochastic** nodes in the model's directed acyclic graph, meaning that it takes on a value that is only partly determined by the values of its parents. Stochastic nodes are assigned functional forms that describe the prior uncertainty in their values, conditional on its parents. The first argument for the built-in distributions is the *name* of the random variable (RV), so that values can be indexed from the model conveniently by their name. Next are the parameters of the distribution, which in most cases are one or two values which determine the location, shape or scale of the random variable, depending on the parameterization of the distribution.\n",
    "\n",
    "Detailed notes about each PyMC object are available via the `help` function."
   ]
  },
  {
   "cell_type": "code",
   "execution_count": 53,
   "metadata": {
    "collapsed": false
   },
   "outputs": [],
   "source": [
    "#help(Normal) #try help(Model), help(Uniform) or help(model_linear)"
   ]
  },
  {
   "cell_type": "markdown",
   "metadata": {},
   "source": [
    "The `mu` node is a **deterministic** object, meaning that its value is completely determined by its parents' values. There is no uncertainty beyond the uncertainty in the parents' values. Here, `mu` is just the sum of the intercept `alpha` and the product of the slope `beta` and the predictor variable. Notice how PyMC variables and data can be arbitrarily added, subtracted, divided and multiplied together, allowing for great model expressivity.\n",
    "\n",
    "The final piece of the model, `Y_obs`, is an **observed stochastic**, and represents the data likelihood of the model. It provides the evidence from the data to the model, and is identical to a standard stochastic, except that it is given an `observed` argument. his is how the data are passed to the model, in the form of a `numpy.ndarray` or `pandas.DataFrame` object, and indicates to PyMC that the value of the node should not change, since the data are fixed."
   ]
  },
  {
   "cell_type": "markdown",
   "metadata": {},
   "source": [
    "Notice that the model resides in an indented block, following the line:\n",
    "\n",
    "```python\n",
    "with Model() as model_linear:\n",
    "```\n",
    "\n",
    "The `with` statement denotes a **context manager**, whereby the `Model` (that we here bind to the label `model`) is associated with each of the PyMC objects that are introduced withing the subsequent block. PyMC uses this context to register each variable with `model`. Absent this context manager idiom, we would be forced to manually associate each of the variables with `model`.\n",
    "\n",
    "##Model fitting\n",
    "Now that we have specified our model, we want to summarize posterior into histograms, means, variances, correlations etc. so we can explore and understand it. For most models of interest, the parameter space is too large to summarize numerically, so we find the *maximum a posteriori*(MAP) using optimization  methods or compute summaries based on samples drawn using Markov Chain Monte Carlo (MCMC) methods.\n",
    "\n",
    "###Maximum a posteriori methods\n",
    "\n",
    "The **maximum a posteriori (MAP)** estimate for a model, is the mode of the posterior distribution and is generally found using optimization methods. This is generally fast and easy to do, but only gives a point estimate for the parameters and can be biased if the mode isn't representative of the distribution. PyMC provides this functionality with the `find_MAP` function.\n",
    "\n",
    "Below we find the MAP for our original model. The MAP is returned as a dictionary of variable names to parameter estimates. "
   ]
  },
  {
   "cell_type": "code",
   "execution_count": 54,
   "metadata": {
    "collapsed": false
   },
   "outputs": [
    {
     "name": "stdout",
     "output_type": "stream",
     "text": [
      "{'alpha': array(1.0330430050855257), 'beta': array(0.9621492333808841), 'sigma': array(1.1214199375548823)}\n"
     ]
    }
   ],
   "source": [
    "from pymc3 import find_MAP\n",
    "\n",
    "start = find_MAP(model=model_linear)\n",
    "    \n",
    "print(start)"
   ]
  },
  {
   "cell_type": "markdown",
   "metadata": {},
   "source": [
    "By default, `PyMC3` uses BFGS optimization but also allows selection of other optimization algorithms from the `scipy.optimize` module. For example, below we use Powell's method to find the MAP."
   ]
  },
  {
   "cell_type": "code",
   "execution_count": 55,
   "metadata": {
    "collapsed": false
   },
   "outputs": [
    {
     "name": "stdout",
     "output_type": "stream",
     "text": [
      "{'alpha': array(1.0333820240232854), 'beta': array(0.9618748957713651), 'sigma': array(1.1207891768840499)}\n"
     ]
    }
   ],
   "source": [
    "from scipy import optimize\n",
    "\n",
    "start = find_MAP(model=model_linear, fmin=optimize.fmin_powell)\n",
    "    \n",
    "print(start)"
   ]
  },
  {
   "cell_type": "markdown",
   "metadata": {},
   "source": [
    "Be aware that the MAP is not always a reasonable estimate, especially if the mode is at an extreme. This will often come up with the two scale parameters for higharchial models. "
   ]
  },
  {
   "cell_type": "markdown",
   "metadata": {},
   "source": [
    "###Sampling methods\n",
    "\n",
    "Though MAP is a fast and easy way of obtaining estimates of the unknown model parameters, it is not usually sufficient for inference because there is no associated estimate of uncertainty of the MAP estimates. Instead, a simulation-based approach such as Markov chain Monte Carlo (MCMC) can be used to obtain a Markov chain of values that, given the satisfaction of certain conditions, are indistinguishable from independent samples from the true posterior. \n",
    "\n",
    "To conduct MCMC sampling to generate posterior samples in PyMC3, we instantiate a **step method** object that corresponds to a particular MCMC algorithm, such as Metropolis or Slice sampling. PyMC's `step_methods` submodule contains the following samplers, as well as proposal distributions that are used by several of the samplers:"
   ]
  },
  {
   "cell_type": "code",
   "execution_count": 56,
   "metadata": {
    "collapsed": false
   },
   "outputs": [],
   "source": [
    "from pymc3 import step_methods\n",
    "\n",
    "#print_public(step_methods)"
   ]
  },
  {
   "cell_type": "markdown",
   "metadata": {},
   "source": [
    "###Advanced sampling methods\n",
    "\n",
    "PyMC has the standard sampling algorithms like Metropolis-Hastings and slice sampling, but PyMC's speciality are Hamiltonian Monte Carlo samplers like `HamiltonianMC`, as well as the auto-tuned version of it, the No-U-Turn Sampler (`NUTS`). These Hamiltonian samplers work especially well with models that have many parameters (where standard algorithms work very slowly). They do well on these problems because they use information about the model gradient, which requires differentation of the log-probability of the model. PyMC relies on Theano to compute model gradients via automatic differentation on the computational graph that PyMC3's syntax specifies.\n",
    "\n",
    "With Hamiltonian Monte Carlo (HMC) and NUTS it is often critical to have scaling parameters for the jumps in the parameter space they attempt. This is especially true for models that have many unobserved stochastics (inferred model parameters) or models with highly non-normal posterior distributions. Bad scaling parameters will slow down HMC and NUTS significantly, sometimes almost stopping them completely. The starting point can also be important for efficient sampling, but not as often.\n",
    "\n",
    "Fortunately HMC and NUTS can often make good guesses for your scaling parameters. If you pass a point in parameter space (as a dictionary of variable names to parameter values, the same format as returned by `find_MAP`) to HMC or NUTS it will look at the local curvature of the posterior at that point to guess the scale of different parameters. This is often sufficient.\n",
    "\n",
    "Though we may not want to use MAP for inference, it is a useful tool for selecting reasonable starting values for the MCMC simulation. These values are used as an argument to instantiate the sampler class, and the resulting instance is passed to the `sample` function to execute the MCMC run. In the case of the `NUTS` sampler, it requires a scaling matrix that can be provided by computing the Hessian using `find_hessian`, or from a point (e.g. the MAP estimate) that will be used to compute a diagonal scaling matrix."
   ]
  },
  {
   "cell_type": "code",
   "execution_count": 57,
   "metadata": {
    "collapsed": false
   },
   "outputs": [
    {
     "name": "stdout",
     "output_type": "stream",
     "text": [
      " [-----------------100%-----------------] 500 of 500 complete in 1.6 sec"
     ]
    }
   ],
   "source": [
    "from pymc3 import NUTS, sample\n",
    "\n",
    "with model_linear:\n",
    "    \n",
    "    # obtain starting values via MAP\n",
    "    start = find_MAP(fmin=optimize.fmin_powell)\n",
    "    \n",
    "    # instantiate sampler\n",
    "    step = NUTS(scaling=start) \n",
    "    \n",
    "    # draw 500 posterior samplers\n",
    "    trace = sample(500, step, start=start) "
   ]
  },
  {
   "cell_type": "markdown",
   "metadata": {},
   "source": [
    "\n",
    "\n",
    "The returned `trace` object can be queried in a similar way as a `dict` containing a map from RVs to `numpy.array`s. The first dimension of the array is the sampling index and the later dimensions match the shape of the variable. "
   ]
  },
  {
   "cell_type": "code",
   "execution_count": 58,
   "metadata": {
    "collapsed": false
   },
   "outputs": [
    {
     "data": {
      "text/plain": [
       "array([ 1.08531582,  1.08531582,  1.15618812])"
      ]
     },
     "execution_count": 58,
     "metadata": {},
     "output_type": "execute_result"
    }
   ],
   "source": [
    "trace['alpha'][:3]"
   ]
  },
  {
   "cell_type": "markdown",
   "metadata": {},
   "source": [
    "## Posterior analysis\n",
    "`PyMC3` comes with various statistical and plotting capabilities to examine the output. A simple posterior plot can be created using `pm.traceplot`:"
   ]
  },
  {
   "cell_type": "code",
   "execution_count": 59,
   "metadata": {
    "collapsed": false
   },
   "outputs": [
    {
     "data": {
      "image/png": "[encoded data removed]",
      "text/plain": [
       "<matplotlib.figure.Figure at 0x106a5cac>"
      ]
     },
     "metadata": {},
     "output_type": "display_data"
    }
   ],
   "source": [
    "from pymc3 import traceplot\n",
    "\n",
    "traceplot(trace, );"
   ]
  },
  {
   "cell_type": "markdown",
   "metadata": {},
   "source": [
    "In addition, `pm.stats.summary()` provides a text-based output of common posterior statistics:"
   ]
  },
  {
   "cell_type": "code",
   "execution_count": 49,
   "metadata": {
    "collapsed": false
   },
   "outputs": [
    {
     "name": "stdout",
     "output_type": "stream",
     "text": [
      "\n",
      "alpha:\n",
      " \n",
      "  Mean             SD               MC Error         95% HPD interval\n",
      "  -------------------------------------------------------------------\n",
      "  \n",
      "  0.493            0.792            0.068            [-0.928, 2.035]\n",
      "  0.568            0.788            0.068            [-0.827, 2.074]\n",
      "\n",
      "  Posterior quantiles:\n",
      "  2.5            25             50             75             97.5\n",
      "  |--------------|==============|==============|--------------|\n",
      "  \n",
      "  -0.860         -0.096         0.458          0.999          2.316\n",
      "  -1.323         0.067          0.618          1.126          1.968\n",
      "\n",
      "\n",
      "beta:\n",
      " \n",
      "  Mean             SD               MC Error         95% HPD interval\n",
      "  -------------------------------------------------------------------\n",
      "  \n",
      "  0.932            0.377            0.021            [0.234, 1.667]\n",
      "\n",
      "  Posterior quantiles:\n",
      "  2.5            25             50             75             97.5\n",
      "  |--------------|==============|==============|--------------|\n",
      "  \n",
      "  0.265          0.698          0.927          1.163          1.713\n",
      "\n",
      "\n",
      "sigma:\n",
      " \n",
      "  Mean             SD               MC Error         95% HPD interval\n",
      "  -------------------------------------------------------------------\n",
      "  \n",
      "  1.148            0.081            0.004            [0.974, 1.291]\n",
      "\n",
      "  Posterior quantiles:\n",
      "  2.5            25             50             75             97.5\n",
      "  |--------------|==============|==============|--------------|\n",
      "  \n",
      "  0.986          1.097          1.148          1.195          1.316\n",
      "\n"
     ]
    }
   ],
   "source": [
    "from pymc3 import summary\n",
    "\n",
    "summary(trace)"
   ]
  },
  {
   "cell_type": "markdown",
   "metadata": {},
   "source": [
    "The left column consists of a kernel density estimation (KDE) of the marginal posterios of each RV while the right column contains the trace. As we ran four chains, each subplot will have 4 differently colored lines, one corresponding to each chain. Because `theta` is a 2-D RV we see two (times four) posteriors in the top row. This allows easy visual inspection of all chains converged to the same posterior."
   ]
  },
  {
   "cell_type": "markdown",
   "metadata": {},
   "source": [
    "##Case Study: Stochastic Volatility\n",
    "\n",
    "We present a case study of stochastic volatility to showcase some pymc features. The following model has 400+ parameters so using common sampling algorithms like Metropolis Hastings would be very slow. Instead we use the No-U-Turn Sampler (NUTS), which is dramatically more efficient.\n",
    "\n",
    "The distribution of returns is highly non-normal, which makes sampling the volatlities significantly more difficult. \n",
    "\n",
    "###The model\n",
    "\n",
    "Asset prices have time-varying volatility (variance of day over day `returns`). In some periods, returns are highly variable, while in others very stable. Stochastic volatility models model this with a latent volatility variable, modeled as a stochastic process. The following model is similar to the one described in the NUTS paper, Hoffman (2011) p21.\n",
    "\n",
    "$$ \\sigma \\sim Exponential(50) $$\n",
    "\n",
    "$$ \\nu \\sim Exponential(.1) $$\n",
    "\n",
    "$$ s_i \\sim Normal(s_{i-1}, \\sigma^{-2}) $$\n",
    "\n",
    "$$ log(\\frac{y_i}{y_{i-1}}) \\sim t(\\nu, 0, exp(-2 s_i)) $$\n",
    "\n",
    "Here, $y$ is the daily return series and $s$ is the latent log volatility process."
   ]
  },
  {
   "cell_type": "markdown",
   "metadata": {},
   "source": [
    "###The Data\n",
    "\n",
    "First we load the last 400 daily returns of the S&P 500."
   ]
  },
  {
   "cell_type": "code",
   "execution_count": 50,
   "metadata": {
    "collapsed": false
   },
   "outputs": [
    {
     "data": {
      "text/plain": [
       "[<matplotlib.lines.Line2D at 0xf85bbac>]"
      ]
     },
     "execution_count": 50,
     "metadata": {},
     "output_type": "execute_result"
    },
    {
     "data": {
      "image/png": "[encoded data removed]",
      "text/plain": [
       "<matplotlib.figure.Figure at 0xede16ac>"
      ]
     },
     "metadata": {},
     "output_type": "display_data"
    }
   ],
   "source": [
    "import pylab\n",
    "\n",
    "n = 400\n",
    "returns = np.genfromtxt(\"data/SP500.csv\")[-n:]\n",
    "pylab.plot(returns)"
   ]
  },
  {
   "cell_type": "markdown",
   "metadata": {},
   "source": [
    "###The model\n",
    "Specifying the model in pymc3 mirrors its statistical specification. \n",
    "\n",
    "Here we use several new distributions the `Exponential` distribution for the $ \\nu $ and $\\sigma$ priors, the student-t (`T`) distribution for distribution of returns, and the `GaussianRandomWalk` for the prior for the latent volatilities.   \n",
    "\n",
    "It is easier to sample the scale of the log volatility process innovations, $\\sigma$, on a log scale, so we create it using `TransformedVar` and use `logtransform`. `TransformedVar` creates one variable in the transformed space and one in the normal space. The one in the transformed space (here $\\text{log}(\\sigma) $) is the one over which sampling will occur, and the one in the normal space is the one to use throughout the rest of the model.\n",
    "\n",
    "It takes a variable name, a distribution and a transformation to use.\n",
    "\n",
    "We can also provide a test value for any distribution using the `testval` argument. This overrides the default test value for the distribution (usually the mean, median or mode of the distribution), and is most often useful if some values are illegal and we want to ensure we select a legal one. The test values for the distributions are also used as a starting point for sampling and optimization by default, though this is easily overriden. \n",
    "\n",
    "The `shape` argument used on the `GaussianRandomWalk` is available for all distributions and specifies the length or like shape of the random variable, it can also be a tuple to make multidimensional arrays (e.g. `shape=(5,7)` makes random variable that takes on 5 by 7 matrix values). \n",
    "\n",
    "The `s` vector is given a prior distribution by `GaussianRandomWalk`. As its name suggests GaussianRandomWalk is a vector valued distribution where the values of the vector form a random normal walk of length n (specified by `shape=n`). The scale of the innovations of the random walk, `sigma`, is specified in terms of the precision of the normally distributed innovations and can be a scalar or vector. "
   ]
  },
  {
   "cell_type": "code",
   "execution_count": 65,
   "metadata": {
    "collapsed": false
   },
   "outputs": [],
   "source": [
    "import pymc3 as pm\n",
    "from pymc3.distributions.timeseries import GaussianRandomWalk\n",
    "\n",
    "with Model() as model:\n",
    "    \n",
    "    nu = pm.Exponential('nu', 1./10, testval=.1)\n",
    "    \n",
    "    sigma, log_sigma = model.TransformedVar('sigma', pm.Exponential.dist(1./.02, testval=.1),\n",
    "                                            pm.logtransform)\n",
    "    \n",
    "    s = GaussianRandomWalk('s', sigma**-2, shape=n)\n",
    "\n",
    "    r = T('r', nu, lam=pm.exp(-2*s), observed=returns)"
   ]
  },
  {
   "cell_type": "markdown",
   "metadata": {},
   "source": [
    "Notice we transform the log volatility process `s` into the volatility process by `exp(-2*s)`. The `exp` function comes from Theano (imported through PyMC), which provides a wide varitety of common scientific computing funtions (and some uncommon ones)."
   ]
  },
  {
   "cell_type": "markdown",
   "metadata": {},
   "source": [
    "###Fit model\n",
    "Before we can draw samples from the posterior, we want to find a decent starting point by finding a point of relatively high probability. For this model, the full maximum a posteriori (MAP) point is degenerate and has infinite density. But, if we fix `log_sigma` and `nu` it is no longer degenerate, so we find the MAP with respect only to the volatility process, 's', keeping `log_sigma` and `nu` constant at their (reasonably set) default values.\n",
    "\n",
    "We use L-BFGS because it is more efficient for high dimensional functions (`s` has n elements)."
   ]
  },
  {
   "cell_type": "code",
   "execution_count": 66,
   "metadata": {
    "collapsed": true
   },
   "outputs": [],
   "source": [
    "with model:\n",
    "    start = pm.find_MAP(vars=[s], fmin=optimize.fmin_l_bfgs_b)"
   ]
  },
  {
   "cell_type": "markdown",
   "metadata": {},
   "source": [
    "To do the sampling, we do a short initial run to get near the right area, then start again at the new starting point. NUTS will recalculate the scaling parameters based on the new point, and in this case it leads to faster sampling due to better scaling."
   ]
  },
  {
   "cell_type": "code",
   "execution_count": null,
   "metadata": {
    "collapsed": true
   },
   "outputs": [],
   "source": [
    "with model:\n",
    "    step = pm.NUTS(scaling=start)\n",
    "    start2 = pm.sample(500, step, progressbar=False)[-1]\n",
    "\n",
    "    # Start next run at the last sampled position.\n",
    "    step = pm.NUTS(scaling=start2)\n",
    "    trace = pm.sample(8000, step, start=start2, progressbar=False)"
   ]
  },
  {
   "cell_type": "markdown",
   "metadata": {},
   "source": [
    "We can check basic convergence by looking at the traceplot for `nu` and `log_sigma`."
   ]
  },
  {
   "cell_type": "code",
   "execution_count": null,
   "metadata": {
    "collapsed": true
   },
   "outputs": [],
   "source": [
    "figsize(12,6)\n",
    "pm.traceplot(trace, [nu, log_sigma]);"
   ]
  },
  {
   "cell_type": "markdown",
   "metadata": {},
   "source": [
    "And plot the distribution of volatility paths"
   ]
  },
  {
   "cell_type": "code",
   "execution_count": null,
   "metadata": {
    "collapsed": true
   },
   "outputs": [],
   "source": [
    "figsize(12,6)\n",
    "title(str(s))\n",
    "plot(trace[s][::10].T,'b', alpha=.03);\n",
    "xlabel('time')\n",
    "ylabel('log volatility')"
   ]
  },
  {
   "cell_type": "code",
   "execution_count": null,
   "metadata": {
    "collapsed": true
   },
   "outputs": [],
   "source": [
    "\n",
    "\n",
    "\n",
    "\n",
    "\n"
   ]
  },
  {
   "cell_type": "code",
   "execution_count": null,
   "metadata": {
    "collapsed": false
   },
   "outputs": [],
   "source": [
    "import pandas as pd\n",
    "\n",
    "X_1 = pd.DataFrame([np.ones_like(X), X]).T\n",
    "X_1.head()"
   ]
  },
  {
   "cell_type": "markdown",
   "metadata": {},
   "source": [
    "The corresponding model now employs a single vector-valued stochastic `theta` that represents the linear coefficients (`shape=2` specifies the length of the vector as 2). Further, we can use Theano's dot product function `dot` to perform matrix array multiplication."
   ]
  },
  {
   "cell_type": "code",
   "execution_count": null,
   "metadata": {
    "collapsed": false
   },
   "outputs": [],
   "source": [
    "import theano.tensor as T\n",
    "\n",
    "with Model() as model_matrix:\n",
    "    \n",
    "    theta = Normal('theta', 0, 1, shape=2)\n",
    "    sigma = HalfNormal('sigma', sd=1)\n",
    "    mu = T.dot(X_1, theta)\n",
    "    Y_obs = Normal('Y_obs', mu, sd=sigma, observed=Y)"
   ]
  },
  {
   "cell_type": "markdown",
   "metadata": {},
   "source": [
    "###Logistic Regression\n",
    "\n",
    "At this point it is worth noting that Random Variables (RVs) in `PyMC3` behave like Theano expressions, which makes them very versatile. For example, using Theano's `sigmoid` function from the neural net (`nnet`) submodule, we can easily turn this linear regression into a logistic regression. You can read more about Theano by reading the tutorial at http://deeplearning.net/software/theano/tutorial/.\n",
    "\n",
    "Perhaps we are now trying to predict the values of `Y` that are greater than zero:"
   ]
  },
  {
   "cell_type": "code",
   "execution_count": null,
   "metadata": {
    "collapsed": true
   },
   "outputs": [],
   "source": [
    "Z = Y > 0"
   ]
  },
  {
   "cell_type": "markdown",
   "metadata": {},
   "source": [
    "We now use a Bernoulli likelihood, with probability $p = \\text{sig}(X \\theta)$ in place of the normal likelihood."
   ]
  },
  {
   "cell_type": "markdown",
   "metadata": {},
   "source": [
    "`Theano` has advanced matrix notation capabilities that enable `PyMC3` to handle multivariate statistics, including advanced indexing and slicing.\n",
    "Lets rewrite the previous linear regression model in a more succinct form using matrix algebra and a vector of linear model covariates:\n",
    "\n",
    "$$\\theta = [\\alpha, \\beta]$$\n",
    "\n",
    "For this, we require a column of ones to properly specify the intercept term."
   ]
  },
  {
   "cell_type": "code",
   "execution_count": null,
   "metadata": {
    "collapsed": false
   },
   "outputs": [],
   "source": [
    "from pymc3 import Bernoulli\n",
    "\n",
    "with Model() as model_logistic:\n",
    "    \n",
    "    theta = Normal('theta', 0, 1, shape=(2, 1))\n",
    "    p = T.nnet.sigmoid(T.dot(X_1, theta))\n",
    "    Z_obs = Bernoulli('Y_obs', p=p, observed=Z)"
   ]
  },
  {
   "cell_type": "markdown",
   "metadata": {},
   "source": [
    "Later, we describe how more complex GLMs can easily be created in one line using the `glm` submodule of `PyMC3` but let us first turn our attention to inference.\n",
    "\n",
    "> ### Note on Random Variables and Probability Distributions\n",
    "> As a final note on model specification, `PyMC3` differentiates between RVs and probability distributions. RVs, as we specified in the models above, are specified by a probability distribution and a name, and are associated with a model. In contrast, probability distributions can exist outside of a `Model` context and don't require names. \n",
    "\n",
    "> To create a probability distribution instead of a RV, we use the `.dist` classmethod for the distribution of interest. For example:"
   ]
  },
  {
   "cell_type": "code",
   "execution_count": null,
   "metadata": {
    "collapsed": false
   },
   "outputs": [],
   "source": [
    "normal_dist = Normal.dist(mu=0, sd=1)"
   ]
  },
  {
   "cell_type": "markdown",
   "metadata": {},
   "source": [
    "> To use the distribution, we pass values to its `logp` method, then force Theano to evaluate the resulting expression graph with the `eval` method."
   ]
  },
  {
   "cell_type": "code",
   "execution_count": null,
   "metadata": {
    "collapsed": false
   },
   "outputs": [],
   "source": [
    "normal_dist.logp(2.1).eval()"
   ]
  },
  {
   "cell_type": "markdown",
   "metadata": {},
   "source": []
  },
  {
   "cell_type": "markdown",
   "metadata": {},
   "source": [
    "## Posterior Inference\n",
    "So far, we have simply specified models, but not used them to estimate the parameters of the model. \n",
    "\n",
    "Resulting in a Theano expression graph  that allows computation of the summed log probability of the model. On demand, we can ask Theano to perform algebraic simplifications and compile the symbolic computation graph to C code and compile this, in turn, to machine code. All of this functionality happens transparently. \n",
    "\n",
    "Our objective in constructing probabilistic models is to obtain posterior inference for the unobserved stochastics (unobserved parameters) in our model.\n",
    "\n",
    "$$Pr(\\theta | y) \\propto Pr(y | \\theta) Pr(\\theta)$$\n",
    "\n",
    "where $Pr(\\theta)$ is the joint prior of the stochastics and $Pr(y | \\theta)$ is the observed stochastic, or data likelihood; deterministic nodes are not relevant to the joint posterior probability.\n",
    "\n"
   ]
  },
  {
   "cell_type": "markdown",
   "metadata": {},
   "source": [
    "As mentioned above, we can also run multiple chains in parallel to speed up sampling:"
   ]
  },
  {
   "cell_type": "code",
   "execution_count": null,
   "metadata": {
    "collapsed": false
   },
   "outputs": [],
   "source": [
    "from pymc3 import NUTS\n",
    "\n",
    "with model_matrix:\n",
    "    step = NUTS(scaling=start) # instantiate sampler\n",
    "    trace = sample(500, step, start=start, njobs=4) # draw 500 posterior samplers"
   ]
  },
  {
   "cell_type": "markdown",
   "metadata": {},
   "source": [
    "Behind the scenes, `PyMC3` will launch multiple Python processes using the `multiprocessing` module, pickle the model object, distribute it to the workers, and gather the samples in a `MultiTrace` backend. The resulting `trace` object will have four chains associated with it:"
   ]
  },
  {
   "cell_type": "code",
   "execution_count": null,
   "metadata": {
    "collapsed": false
   },
   "outputs": [],
   "source": [
    "trace"
   ]
  },
  {
   "cell_type": "markdown",
   "metadata": {},
   "source": [
    "Which can be accessed as a list of numpy arrays:"
   ]
  },
  {
   "cell_type": "code",
   "execution_count": null,
   "metadata": {
    "collapsed": false
   },
   "outputs": [],
   "source": [
    "trace['theta'][1][-5:]"
   ]
  },
  {
   "cell_type": "markdown",
   "metadata": {},
   "source": [
    "More details on the backend can be found further below."
   ]
  },
  {
   "cell_type": "markdown",
   "metadata": {},
   "source": [
    "A forest plot allows for a more succint overview of the posteriors as well as their Gelman-\n",
    "Rubin $\\hat{R}$ score (CITE):"
   ]
  },
  {
   "cell_type": "code",
   "execution_count": null,
   "metadata": {
    "collapsed": false
   },
   "outputs": [],
   "source": [
    "from pymc3 import forestplot\n",
    "\n",
    "forestplot(trace)"
   ]
  },
  {
   "cell_type": "markdown",
   "metadata": {},
   "source": [
    "Here the 2-D RV is split into its individual components.\n",
    "\n",
    "As you can see, `PyMC3` handles multiple chains as well as multivariate statistics natively."
   ]
  },
  {
   "cell_type": "markdown",
   "metadata": {},
   "source": [
    "## Case study: Occupancy estimation\n",
    "\n",
    "Ecologists often use survey data to make inferences regarding the abundance and distribution of plants and animals. Such survey data is often *zero-inflated*, whereby there are more zeros than you would expect if the data were distributed according to some common distribution. This is sometimes due to habitat heterogeneity, which causes areas of low quality to be unoccupied by a particular species. However, some sites may be unoccupied simply due to chance.\n",
    "\n",
    "Here is an example of such data; each element in the array (n=100) represents a count of a particular species among a set of sites. The data are clearly zero-inflated:"
   ]
  },
  {
   "cell_type": "code",
   "execution_count": null,
   "metadata": {
    "collapsed": false
   },
   "outputs": [],
   "source": [
    "y = np.array([0, 2, 1, 0, 4, 2, 0, 0, 0, 0, 0, 0, 0, 0, 0, 0, 0, 6, 0, 0, 0, 2, 1,\n",
    "       2, 0, 0, 0, 1, 0, 0, 0, 4, 2, 0, 0, 0, 1, 0, 2, 4, 0, 0, 1, 0, 0, 0,\n",
    "       0, 0, 2, 0, 2, 0, 0, 0, 0, 0, 1, 0, 0, 0, 0, 0, 0, 0, 0, 2, 1, 0, 0,\n",
    "       0, 0, 3, 0, 2, 0, 1, 2, 2, 2, 2, 3, 0, 0, 0, 0, 1, 0, 3, 1, 0, 0, 0,\n",
    "       0, 0, 2, 0, 0, 1, 0, 0])\n",
    "\n",
    "pl.hist(y, bins=range(7))"
   ]
  },
  {
   "cell_type": "markdown",
   "metadata": {},
   "source": [
    "We can use a *mixture model* to represent this data. The mixture is of two processes: an occupancy process, which determines whether a patch is suitable or not, and an abundance process that models the counts of organisms, conditional on occupancy. One way to tackle the problem is to model the latent state of 'occupancy' as a Bernoulli variable at each site, with some unknown probability. Then, the counts can be modeled using a discrete probability mass function, such as the Poisson, where its expected value represents the expected number of organisms sighted over a standard survey interval.\n",
    "\n",
    "PyMC3 includes a zero-inflated Poisson distribution among its standard distributions, which takes a conditional mean parameter as well as an array of indicators for the excess zeros. Since we do not know which zeros are excess a priori, this array is an unknown stochastic node in the model, distributed as a Bernoulli random variable, with a hyperparameter representing the occupancy rate."
   ]
  },
  {
   "cell_type": "code",
   "execution_count": null,
   "metadata": {
    "collapsed": false
   },
   "outputs": [],
   "source": [
    "from pymc3 import Beta, Bernoulli, ZeroInflatedPoisson, Uniform\n",
    "\n",
    "with Model() as zip_model:\n",
    "    \n",
    "    # Estimated occupancy\n",
    "    p = Beta('p', 1, 1)\n",
    "\n",
    "    # Latent variable for occupancy\n",
    "    z = Bernoulli('z', p, y.shape)\n",
    "\n",
    "    # Estimated mean count\n",
    "    theta = Uniform('theta', 0, 100)\n",
    "\n",
    "    # Poisson likelihood\n",
    "    yd = ZeroInflatedPoisson('y', theta, z, observed=y)"
   ]
  },
  {
   "cell_type": "markdown",
   "metadata": {},
   "source": [
    "Notice that this model includes discrete random variables, the latent occupancy indicators. Hence, we cannot use a gradient-based MCMC step method like HMC or NUTS. Instead, we will sample using a `BinaryMetropolis` sampler that proposes only binary values at each iteration; for the continuous-valued parameters, we will use a standard `Metropolis` sampler. "
   ]
  },
  {
   "cell_type": "code",
   "execution_count": null,
   "metadata": {
    "collapsed": false
   },
   "outputs": [],
   "source": [
    "from pymc3 import Metropolis, BinaryMetropolis\n",
    "\n",
    "with zip_model:\n",
    "    \n",
    "    start = {'p': 0.5, 'z': (y > 0).astype(int), 'theta': 5}\n",
    "\n",
    "    step1 = Metropolis([theta, p])\n",
    "\n",
    "    step2 = BinaryMetropolis([z])\n",
    "\n",
    "    trace = sample(10000, [step1, step2], start)"
   ]
  },
  {
   "cell_type": "markdown",
   "metadata": {},
   "source": [
    "The resulting posteriors for the unknown parameters suggest an occupancy rate in the neighborhood of 0.3 to 0.35, and an expected count (conditional on occupancy) of just over 2."
   ]
  },
  {
   "cell_type": "code",
   "execution_count": null,
   "metadata": {
    "collapsed": false
   },
   "outputs": [],
   "source": [
    "traceplot(trace, ['p', 'theta']);"
   ]
  },
  {
   "cell_type": "markdown",
   "metadata": {},
   "source": [
    "## Backends\n",
    "\n",
    "`PyMC3` has support for a small but growing number of backends to store traces in. These can be found in `pymc.backends`:"
   ]
  },
  {
   "cell_type": "code",
   "execution_count": null,
   "metadata": {
    "collapsed": false
   },
   "outputs": [],
   "source": [
    "print_public(pm.backends)"
   ]
  },
  {
   "cell_type": "markdown",
   "metadata": {},
   "source": [
    "By default, an in-memory `ndarray` is used but if the samples would get too large to be held in memory we could use the `sqlite` backend:"
   ]
  },
  {
   "cell_type": "code",
   "execution_count": null,
   "metadata": {
    "collapsed": false
   },
   "outputs": [],
   "source": [
    "with model_matrix:\n",
    "    backend = pm.backends.SQLite('trace.sqlite')\n",
    "    trace = pm.sample(500, step, start=start, trace=backend)"
   ]
  },
  {
   "cell_type": "markdown",
   "metadata": {},
   "source": [
    "The stored trace can then later be loaded using the `load` command:"
   ]
  },
  {
   "cell_type": "code",
   "execution_count": null,
   "metadata": {
    "collapsed": false
   },
   "outputs": [],
   "source": [
    "with model_matrix:\n",
    "    trace_loaded = pm.backends.sqlite.load('trace.sqlite')\n",
    "    \n",
    "trace_loaded "
   ]
  },
  {
   "cell_type": "markdown",
   "metadata": {},
   "source": [
    "More information about `backends` can be found in the docstring of `pymc.backends`."
   ]
  },
  {
   "cell_type": "markdown",
   "metadata": {},
   "source": [
    "## Defining arbitrary stochastic distributions\n",
    "\n",
    "`PyMC3` supports two methods to define new distributions:\n",
    "\n",
    "###1. Defining a distribution as a theano expression\n",
    "\n",
    "By using `pymc.DensityDist` you can define new log probability functions that can be used like any other RV. The following is an example inspired by a blog post by Jake Vanderplas on which priors to use for a linear regression. (https://jakevdp.github.io/blog/2014/06/14/frequentism-and-bayesianism-4-bayesian-in-python/). For more detail on the derivation of these priors we refer to the blog post. The code to use these custom priors is as follows:"
   ]
  },
  {
   "cell_type": "code",
   "execution_count": null,
   "metadata": {
    "collapsed": false
   },
   "outputs": [],
   "source": [
    "import theano.tensor as T\n",
    "\n",
    "with pm.Model() as model:\n",
    "    alpha = pm.Uniform('intercept', -100, 100)\n",
    "    # Create custom densities\n",
    "    beta = pm.DensityDist('slope', lambda value: -1.5 * T.log(1 + value**2), testval=0)\n",
    "    eps = pm.DensityDist('sigma', lambda value: -T.log(T.abs_(value)), testval=1)\n",
    "    # Create likelihood\n",
    "    like = pm.Normal('y_est', mu=alpha + beta * X, sd=eps, observed=Y)"
   ]
  },
  {
   "cell_type": "markdown",
   "metadata": {},
   "source": [
    "As you can see, `DensityDist` takes a function (here we are using an anonymous `lambda` function) that takes the parameter value as input and returns the log probability for that setting."
   ]
  },
  {
   "cell_type": "markdown",
   "metadata": {},
   "source": [
    "### 2. Defining a distribution as a blackbox function\n",
    "\n",
    "Above we used `theano` to define the math of the probability function. However, often it might not be possible to write a probability distributions as a `theano` expression. This is the case in many scientific fields including psychology and astrophysics where the likelihood functions are often a model of the process in question and has a complex form that might require numerical approximation. As the rest of `PyMC3` still expects a `theano` expression we have to wrap a function as a blackbox `theano` expression. This is possible with the `as_op` decorator. As a simple example we can reformulate the above distribution for `beta` to only use `numpy` internally. "
   ]
  },
  {
   "cell_type": "code",
   "execution_count": null,
   "metadata": {
    "collapsed": false
   },
   "outputs": [],
   "source": [
    "import theano\n",
    "\n",
    "@theano.compile.ops.as_op(itypes=[T.dscalar], otypes=[T.dscalar])\n",
    "def beta_prior(value):\n",
    "    return -1.5 * np.log(1 + value**2)"
   ]
  },
  {
   "cell_type": "markdown",
   "metadata": {},
   "source": [
    "As can be seen, the decorator requires definition of the input and output types. For an overview of the available types, see http://deeplearning.net/software/theano/library/tensor/basic.html#all-fully-typed-constructors.\n",
    "\n",
    "**Note**: Because this function is now a blackbox function it is not possible for `theano` to inspect it and compute the gradient required for the Hamiltonian samplers. It is thus not possible to use the `HMC` or `NUTS` samplers for a model that uses such a distribution and you have to use e.g. `Metropolis` or `Slice` sampling.\n",
    "\n",
    "For a more elaborate example of the usage of `as_op` we refer to the coal mining disaster model: https://github.com/pymc-devs/pymc/blob/master/pymc/examples/disaster_model_arbitrary_deterministic.py."
   ]
  },
  {
   "cell_type": "markdown",
   "metadata": {},
   "source": [
    "## Parameter Transformations\n",
    "\n",
    "To ease the sampling process it is often advisable to transform certain variables. For example, scale parameters can only be positive and thus have a sharp edge at 0 in their posterior probability. This often creates problems for samples, especially those that require the gradient because of non-differentiable areas in the posterior. Parameter transformation can remedy this problem. For example, log-transforming a scale variable allows us to sample across the whole parameter space. `PyMC3` supports transformations by calling the `model.TransformedVar` method:"
   ]
  },
  {
   "cell_type": "code",
   "execution_count": null,
   "metadata": {
    "collapsed": false
   },
   "outputs": [],
   "source": [
    "with pm.Model() as model_linear:\n",
    "    alpha = pm.Normal('alpha', mu=0, sd=1)\n",
    "    beta = pm.Normal('beta', mu=0, sd=1)\n",
    "    \n",
    "    sigma, log_sigma = model.TransformedVar('sigma', \n",
    "                                            pm.HalfNormal.dist(sd=1, testval=.1),\n",
    "                                            pm.logtransform)\n",
    "    \n",
    "    Y_obs = pm.Normal('Y_obs', mu=alpha + beta * X, sd=sigma, observed=Y)"
   ]
  },
  {
   "cell_type": "markdown",
   "metadata": {},
   "source": [
    "Of special note is that `TransformedVar` returns two distributions: one variable in the transformed space and one in the original space. The one in the transformed space (here `log(sigma)`) is the one over which sampling will occur in an unconstrained manner, and the one in the original space is the one to use throughout the rest of the model."
   ]
  },
  {
   "cell_type": "markdown",
   "metadata": {},
   "source": [
    "## Deterministic transformations\n",
    "\n",
    "Above you have already seen that RVs in `PyMC3` can be easily combined and transformed (see the logistic regression example above). These transformations are called *deterministic*. However, note that in the above example we do not retain the samples of our transformed values (i.e. the `d`).  Using the `Deterministic` class we can explicitly add these deterministic variables to the trace."
   ]
  },
  {
   "cell_type": "code",
   "execution_count": null,
   "metadata": {
    "collapsed": false
   },
   "outputs": [],
   "source": []
  },
  {
   "cell_type": "markdown",
   "metadata": {},
   "source": [
    "# Generalized Linear Models\n",
    "\n",
    "Generalized Linear Models (GLMs) are a class of widely used and flexible models to estimate relationships between a single outcome variable and one or multiple predictors. Above we have built Bayesian versions of linear as well as logistic regression. Because these models are so common, `PyMC3` offers a `glm` submodule that allows flexible creation of various GLMs with an intuitive `R`-like syntax that is implemented via the `patsy` module.\n",
    "\n",
    "As the `glm` submodule requires data to be a `pandas` `DataFrame` we first have to convert `X` and `Y`:"
   ]
  },
  {
   "cell_type": "code",
   "execution_count": null,
   "metadata": {
    "collapsed": false
   },
   "outputs": [],
   "source": [
    "# Convert X and Y to a pandas DataFrame\n",
    "import pandas as pd\n",
    "df = pd.DataFrame({'x': X, 'y': Y})"
   ]
  },
  {
   "cell_type": "markdown",
   "metadata": {},
   "source": [
    "The above linear regression can then equivalently be written with the `glm` module as follows:"
   ]
  },
  {
   "cell_type": "code",
   "execution_count": null,
   "metadata": {
    "collapsed": false
   },
   "outputs": [],
   "source": [
    "with pm.Model() as model_glm:\n",
    "    pm.glm.glm('y ~ x', df)"
   ]
  },
  {
   "cell_type": "markdown",
   "metadata": {},
   "source": [
    "The `glm` doc string provides an overview of the capabilities."
   ]
  },
  {
   "cell_type": "code",
   "execution_count": null,
   "metadata": {
    "collapsed": false
   },
   "outputs": [],
   "source": [
    "help(pm.glm.glm)"
   ]
  },
  {
   "cell_type": "markdown",
   "metadata": {},
   "source": [
    "We can thus also specify a logistic regression by passing in a `Binomial` family object."
   ]
  },
  {
   "cell_type": "code",
   "execution_count": null,
   "metadata": {
    "collapsed": false
   },
   "outputs": [],
   "source": [
    "df_logistic = pd.DataFrame({'x': X, 'y': Y_logistic})\n",
    "\n",
    "with pm.Model() as model_glm_logistic:\n",
    "    pm.glm.glm('y ~ x', \n",
    "               df_logistic,\n",
    "               family=pm.glm.families.Binomial()\n",
    "    )"
   ]
  },
  {
   "cell_type": "markdown",
   "metadata": {},
   "source": [
    "## Conclusions\n",
    "\n",
    "PyMC3 offers state-of-the-art sampling algorithms including Hamiltonian Monte Carlo. PyMC3 is also fast due to just-in-time compilation of the model to C, mathematical simplifications of the and caching of previously computed values we gain speed by just-in-time compilation of the model log-likelihood and it's gradient to C,  automatic gradient calculation"
   ]
  },
  {
   "cell_type": "markdown",
   "metadata": {},
   "source": [
    "## References\n",
    "\n",
    "Patil, A., D. Huard and C.J. Fonnesbeck. (2010) PyMC: Bayesian Stochastic Modelling in Python. Journal of Statistical Software, 35(4), pp. 1-81\n",
    "\n",
    "Bastien, F., Lamblin, P., Pascanu, R., Bergstra, J., Goodfellow, I., Bergeron, A., Bouchard, N., Warde-Farley, D., and Bengio, Y. (2012) “Theano: new features and speed improvements”. NIPS 2012 deep learning workshop.\n",
    "\n",
    "Bergstra, J., Breuleux, O., Bastien, F., Lamblin, P., Pascanu, R., Desjardins, G., Turian, J., Warde-Farley, D., and Bengio, Y. (2010) “Theano: A CPU and GPU Math Expression Compiler”. Proceedings of the Python for Scientific Computing Conference (SciPy) 2010. June 30 - July 3, Austin, TX\n",
    "\n",
    "Lunn, D.J., Thomas, A., Best, N., and Spiegelhalter, D. (2000) WinBUGS -- a Bayesian modelling framework: concepts, structure, and extensibility. Statistics and Computing, 10:325--337.\n",
    "\n",
    "Neal, R.M. Slice sampling. Annals of Statistics. (2003). doi:10.2307/3448413.\n",
    "\n",
    "van Rossum, G. The Python Library Reference Release 2.6.5., (2010). URL http://docs. python.org/library/.\n",
    "\n",
    "Duane, S., Kennedy, A. D., Pendleton, B. J., and Roweth, D. (1987) “Hybrid Monte Carlo”, Physics Letters, vol. 195, pp. 216-222.\n",
    "\n",
    "Stan Development Team. (2014). Stan: A C++ Library for Probability and Sampling, Version 2.5.0.   http://mc-stan.org. \n",
    "\n",
    "Gamerman, D. Markov Chain Monte Carlo: statistical simulation for Bayesian inference. Chapman and Hall, 1997.\n",
    "\n",
    "Hoffman, M. D., & Gelman, A. (2014). The No-U-Turn Sampler: Adaptively Setting Path Lengths in Hamiltonian Monte Carlo. The Journal of Machine Learning Research, 30."
   ]
  }
 ],
 "metadata": {
  "kernelspec": {
   "display_name": "Python 2",
   "language": "python",
   "name": "python2"
  },
  "language_info": {
   "codemirror_mode": {
    "name": "ipython",
    "version": 2
   },
   "file_extension": ".py",
   "mimetype": "text/x-python",
   "name": "python",
   "nbconvert_exporter": "python",
   "pygments_lexer": "ipython2",
   "version": "2.7.3"
  }
 },
 "nbformat": 4,
 "nbformat_minor": 0
}
