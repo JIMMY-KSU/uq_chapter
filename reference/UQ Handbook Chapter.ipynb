{
 "cells": [
  {
   "cell_type": "markdown",
   "metadata": {},
   "source": [
    "# Probabilistic Programming in Python using PyMC\n",
    "\n",
    "Authors: John Salvatier, Thomas V. Wiecki, Christopher Fonnesbeck\n",
    "\n",
    "## Introduction\n",
    "\n",
    "Probabilistic Programming (PP) allows flexible specification of statistical Bayesian models in code. PyMC3 is a new, open-source PP framework with an intutive and readable, yet powerful, syntax that is close to the natural syntax statisticians use to describe models. It features next-generation Markov chain Monte Carlo (MCMC) sampling algorithms such as the No-U-Turn Sampler (NUTS; Hoffman, 2014), a self-tuning variant of Hamiltonian Monte Carlo (HMC; Duane, 1987). This class of samplers work well on high dimensional and complex posterior distributions and allows many complex models to be fit without specialized knowledge about fitting algorithms. HMC and NUTS take advantage of gradient information from the likelihood to achieve much faster convergence than traditional sampling methods, especially for larger models. NUTS also has several self-tuning strategies for adaptively setting the tunable parameters of Hamiltonian Monte Carlo, which means you usually don't need to have specialized knowledge about how the algorithms work. PyMC3 and the Stan (Stan Development Team, 2014) package, are currently the only PP packages to offer HMC.\n",
    "\n",
    "Probabilistic programming in Python confers a number of advantages including multi-platform compatibility, an expressive yet clean and readable syntax, easy integration with other scientific libraries, and extensibility via C, C++, Fortran or Cython. These features make it relatively straightforward to write and use custom statistical distributions, samplers and transformation functions, as required by Bayesian analysis.\n",
    "\n",
    "While most of PyMC3's user-facing features are written in pure Python, it leverages Theano (Bergstra et al., 2010) to transparently transcode models to C and compile it to machine code, thereby boosting performance. Theano is a library that allows expressions to be defined using generalized vector data structures called *tensors*, which are tightly integrated with the popular NumPy `ndarray` data structure, and similarly allows for broadcasting and advanced indexing, just as NumPy arrays do. Theano also automatically optimizes the likelihood's computational graph for speed and provides simple GPU integration.\n",
    "\n",
    "Here, we present a primer on the use of PyMC3 for solving general Bayesian statistical inference and prediction problems. We will first see the basics of how to use PyMC3, motivated by a simple example: installation, data creation, model definition, model fitting and posterior analysis. Then we will cover two case studies and use them to show how to define and fit more sophisticated models. Finally we will show how to extend PyMC3 and discuss other useful features."
   ]
  },
  {
   "cell_type": "markdown",
   "metadata": {},
   "source": [
    "## Installation\n",
    "\n",
    "Running PyMC3 requires a working Python interpreter, either version 2.7 (or more recent) or 3.4 (or more recent); we recommend that new users install version 3.4. A complete Python installation for Mac OSX, Linux and Windows can most easily be obtained by downloading and installing the free [`Anaconda Python Distribution`](https://store.continuum.io/cshop/anaconda/) by ContinuumIO. \n",
    "\n",
    "`PyMC3` can also be installed manually using `pip` (https://pip.pypa.io/en/latest/installing.html):\n",
    "\n",
    "```\n",
    "pip install git+https://github.com/pymc-devs/pymc3\n",
    "```\n",
    "\n",
    "PyMC3 depends on several third-party Python packages which will be automatically installed when installing via pip. The four required dependencies are: `Theano`, `NumPy`, `SciPy`, and `Matplotlib`. To take full advantage of PyMC3, the optional dependencies `Pandas` and `Patsy` should also be installed. These are *not* automatically installed, but can be installed by:\n",
    "\n",
    "```\n",
    "pip install patsy pandas\n",
    "```\n",
    "\n",
    "The source code for PyMC3 is hosted on GitHub at https://github.com/pymc-devs/pymc3 and is distributed under the liberal [Apache License 2.0](https://github.com/pymc-devs/pymc3/blob/master/LICENSE). On the GitHub site, users may also report bugs and other issues, as well as contribute code to the project, which we actively encourage.\n",
    "\n",
    "\n",
    "##PyMC3 Basics\n",
    "\n",
    "To introduce model definition, fitting and posterior analysis, we first consider the following basic Bayesian model for linear regression with normal priors for the parameters.\n",
    "\n",
    "$$\\begin{aligned} \n",
    "\\alpha &\\sim \\mathcal{N}(0, 1) \\\\\n",
    "\\beta_i &\\sim \\mathcal{N}(0, 1) \\\\\n",
    "\\sigma &\\sim \\lvert\\mathcal{N}(0, 1){\\rvert}\\\\\n",
    "Y  &\\sim \\mathcal{N}(\\alpha + X_0 \\beta_0 + X_1 \\beta_1, \\sigma)\n",
    "\\end{aligned}$$\n",
    "\n",
    "where $X_i$ are the different observed vectors of predictors, and $Y$ is the observed vector outcome vector; $\\alpha$ the intercept, and $\\beta_i$ are the regression coefficients which all have normal priors. $\\sigma$ represents the error term and is modeled as the absolute of a normal distribution (so-called *HalfNormal*).\n",
    "\n",
    "###Generating data\n",
    "\n",
    "We can simulate some artificial data from this model using only NumPy (no PyMC3), and then use PyMC3 to estimate the corresponding parameters. The structure of the generation code closely follows the PyMC3 model construction."
   ]
  },
  {
   "cell_type": "code",
   "execution_count": 1,
   "metadata": {
    "collapsed": false
   },
   "outputs": [],
   "source": [
    "import numpy as np\n",
    "\n",
    "# Intialize random number generator\n",
    "np.random.seed(123)\n",
    "\n",
    "# True parameter values\n",
    "alpha, sigma = 1, 1\n",
    "beta = [1, 2.5]\n",
    "\n",
    "# Size of dataset\n",
    "size = 100\n",
    "\n",
    "# Predictor variable\n",
    "X0 = np.linspace(0, 1, size)\n",
    "X1 = np.linspace(0,.2, size)\n",
    "\n",
    "# Simulate outcome variable\n",
    "Y = alpha + X0*beta[0] + X1*beta[1] + np.random.randn(size)*sigma"
   ]
  },
  {
   "cell_type": "markdown",
   "metadata": {},
   "source": [
    "Here is what the simulated data look like. We use the `pylab` module from the plotting library matplotlib. "
   ]
  },
  {
   "cell_type": "code",
   "execution_count": 5,
   "metadata": {
    "collapsed": false
   },
   "outputs": [
    {
     "name": "stdout",
     "output_type": "stream",
     "text": [
      "Populating the interactive namespace from numpy and matplotlib\n"
     ]
    },
    {
     "name": "stderr",
     "output_type": "stream",
     "text": [
      "WARNING: pylab import has clobbered these variables: ['pylab']\n",
      "`%matplotlib` prevents importing * from pylab and numpy\n"
     ]
    },
    {
     "data": {
      "image/png": "[encoded data removed]",
      "text/plain": [
       "<matplotlib.figure.Figure at 0xb0eb50ec>"
      ]
     },
     "metadata": {},
     "output_type": "display_data"
    }
   ],
   "source": [
    "%pylab inline \n",
    "import pylab \n",
    "\n",
    "pylab.scatter(X0, Y);"
   ]
  },
  {
   "cell_type": "markdown",
   "metadata": {},
   "source": [
    "###Model Specification\n",
    "\n",
    "Specifiying this model in PyMC3 is straightforward because the syntax is as close to the statistical notation. For the most part, each line of Python code corresponds to a line in the model notation above. \n",
    "\n",
    "First, we import the components we will need from PyMC."
   ]
  },
  {
   "cell_type": "code",
   "execution_count": 3,
   "metadata": {
    "collapsed": false
   },
   "outputs": [
    {
     "name": "stderr",
     "output_type": "stream",
     "text": [
      ":0: FutureWarning: IPython widgets are experimental and may change in the future.\n"
     ]
    }
   ],
   "source": [
    "import pymc3\n",
    "from pymc3 import Model, Normal, HalfNormal"
   ]
  },
  {
   "cell_type": "markdown",
   "metadata": {},
   "source": [
    "Now we build our model, which we will present in full first, then explain each part line-by-line."
   ]
  },
  {
   "cell_type": "code",
   "execution_count": 4,
   "metadata": {
    "collapsed": false,
    "scrolled": true
   },
   "outputs": [],
   "source": [
    "basic_model = Model()\n",
    "with basic_model:\n",
    "    \n",
    "    # Unknown model parameters\n",
    "    alpha = Normal('alpha', mu=0, sd=1)\n",
    "    beta = Normal('beta', mu=0, sd=1, shape=2)\n",
    "    sigma = HalfNormal('sigma', sd=1)\n",
    "    \n",
    "    # Expected value of outcome\n",
    "    mu = alpha + X * beta[0] + X1 * beta[1] \n",
    "    \n",
    "    # Data likelihood\n",
    "    Y_obs = Normal('Y_obs', mu=mu, sd=sigma, observed=Y)"
   ]
  },
  {
   "cell_type": "markdown",
   "metadata": {},
   "source": [
    "The first line,\n",
    "\n",
    "```python\n",
    "basic_model = Model()\n",
    "```\n",
    "\n",
    "creates a new `Model` object which represents our model as a whole and will keep track of all our random variables.\n",
    "\n",
    "The `with` statement\n",
    "```python\n",
    "with basic_model:\n",
    "```\n",
    "denotes a Python *context manager* and sets our `basic_model` as the context until the indented block ends. This means all PyMC3 objects introduced in the indented code block below the `with` statement are added to the model behind the scenes. Absent this context manager idiom, we would be forced to manually associate each of the variables with `basic_model` right after we create them. If you try to create a new random variable without a `with model:` statement, the creation will fail since there is no obvious model for the variable to be added to.\n",
    "\n",
    "The next line \n",
    "```python\n",
    "alpha = Normal('alpha', mu=0, sd=1)\n",
    "```\n",
    "creates a **stochastic** random variable called \"alpha\" with a Normal prior distribution with a mean of 0 and precision of 1. Stochastic random variables are those that the model is defined in terms of. These are the \"input\" variables, the variables over which optimization or MCMC takes place. Note this mean that a change of variables for a model can affect how well optimization or MCMC work, even if the change of variables does not affect the meaning of the model at all.\n",
    "\n",
    "To construct a stochastic random variable, we call the constructor for the prior distribution we want, here the `Normal` constructor for a normal distribution. The first argument is always the *name* of the random variable, in this case \"alpha\". This should almost always match the name of the Python variable being assigned to. Next are the parameters of the prior distribution, in this case \"mu\", the mean, and \"sd\", the standard deviation. In most cases these are one or two values which determine the location, shape or scale of the prior distribution for random variable, depending on the parameterization of the distribution.\n",
    "\n",
    "The `beta` random variable is created much the same way as `alpha`,\n",
    "```python\n",
    "beta = Normal('beta', mu=0, sd=1, shape=2)\n",
    "```\n",
    "except it has an extra `shape` parameter that specifies that beta is a vector of length two. This argument can be used with any distribution. It can take an integer, to specify a vector, or a tuple, to specify a multidimensional array (e.g. `shape=(5,7)` makes random variable that takes on 5 by 7 matrix values). \n",
    "\n",
    "The `sigma` random variable is created much the same way but using The next two lines similarly create two other stochastic random variables `beta` and `sigma`, with `sigma` using a half-normal distribution as a prior. Most commonly used distributions, such as `Beta`, `Exponential`, `Categorical`, `Gamma`, `Wishart` and many others, are available.  \n",
    "\n",
    "Detailed notes about distributions, sampling methods and other PyMC3 functions are available via the `help` function."
   ]
  },
  {
   "cell_type": "code",
   "execution_count": 5,
   "metadata": {
    "collapsed": false
   },
   "outputs": [
    {
     "name": "stdout",
     "output_type": "stream",
     "text": [
      "Help on class Normal in module pymc3.distributions.continuous:\n",
      "\n",
      "class Normal(pymc3.distributions.distribution.Continuous)\n",
      " |  Normal log-likelihood.\n",
      " |  \n",
      " |  .. math::\n",
      " |      f(x \\mid \\mu,   au) = \\sqrt{\f",
      "rac{       au}{2\\pi}} \\exp\\left\\{ -\f",
      "rac{   au}{2} (x-\\mu)^2 \r",
      "ight\\}\n",
      " |  \n",
      " |  Parameters\n",
      " |  ----------\n",
      " |  mu : float\n",
      " |      Mean of the distribution.\n",
      " |  tau : float\n",
      " |      Precision of the distribution, which corresponds to\n",
      " |      :math:`1/\\sigma^2` (tau > 0).\n",
      " |  sd : float\n",
      " |      Standard deviation of the distribution. Alternative parameterization.\n",
      " |  \n",
      " |  .. note::\n",
      " |  - :math:`E(X) = \\mu`\n",
      " |  - :math:`Var(X) = 1/        au`\n",
      " |  \n",
      " |  Method resolution order:\n",
      " |      Normal\n",
      " |      pymc3.distributions.distribution.Continuous\n",
      " |      pymc3.distributions.distribution.Distribution\n",
      " |      builtins.object\n",
      " |  \n",
      " |  Methods defined here:\n",
      " |  \n",
      " |  __init__(self, mu=0.0, tau=None, sd=None, *args, **kwargs)\n",
      " |  \n",
      " |  logp(self, value)\n",
      " |  \n",
      " |  ----------------------------------------------------------------------\n",
      " |  Methods inherited from pymc3.distributions.distribution.Distribution:\n",
      " |  \n",
      " |  __getnewargs__(self)\n",
      " |  \n",
      " |  default(self)\n",
      " |  \n",
      " |  get_test_val(self, val, defaults)\n",
      " |  \n",
      " |  ----------------------------------------------------------------------\n",
      " |  Class methods inherited from pymc3.distributions.distribution.Distribution:\n",
      " |  \n",
      " |  dist(*args, **kwargs) from builtins.type\n",
      " |  \n",
      " |  ----------------------------------------------------------------------\n",
      " |  Static methods inherited from pymc3.distributions.distribution.Distribution:\n",
      " |  \n",
      " |  __new__(cls, name, *args, **kwargs)\n",
      " |  \n",
      " |  ----------------------------------------------------------------------\n",
      " |  Data descriptors inherited from pymc3.distributions.distribution.Distribution:\n",
      " |  \n",
      " |  __dict__\n",
      " |      dictionary for instance variables (if defined)\n",
      " |  \n",
      " |  __weakref__\n",
      " |      list of weak references to the object (if defined)\n",
      "\n"
     ]
    }
   ],
   "source": [
    "help(Normal) #try help(Model), help(Uniform) or help(basic_model)"
   ]
  },
  {
   "cell_type": "markdown",
   "metadata": {},
   "source": [
    "The line defining `mu`\n",
    "```python\n",
    "mu = alpha + beta * X\n",
    "```\n",
    "creates a **deterministic** random variable, meaning that its value is completely determined by its parents' values. There is no uncertainty beyond the uncertainty in the parents' values. Here, `mu` is just the sum of the intercept `alpha` and the product of the slope `beta` and the predictor variable. PyMC3 random variables and data can be arbitrarily added, subtracted, divided, multiplied together and indexed-into to create new random variables. This allows for great model expressivity. Many common mathematical functions like `sum`, `sin`, `exp` and linear algebra functions like `dot` and `inv` (for inverse) are also provided. \n",
    "\n",
    "The final line of the model, defining `Y_obs`,\n",
    "```python\n",
    "Y_obs = Normal('Y_obs', mu=mu, sd=sigma, observed=Y)\n",
    "```\n",
    "is an **observed stochastic**, and represents the data likelihood of the model. It is identical to a standard stochastic, except that it is given an `observed` argument. The data are passed in the form of a `numpy.ndarray` or `pandas.DataFrame` object. The presence of an `observed` argument indicates to PyMC3 that the value of the random variable has been observed and thus should not change.\n",
    "\n",
    "Here the parameters for the prior distribution are themselves random variables. We set the mean of the distribution to `mu` and the standard deviation to `sigma`."
   ]
  },
  {
   "cell_type": "markdown",
   "metadata": {},
   "source": [
    "\n",
    "\n",
    "###Model fitting\n",
    "Now that we have specified our model, we want to summarize the posterior into histograms, means, variances, correlations etc. so we can explore and understand it. \n",
    "\n",
    "For most models and summary functions of interest there is no general way to compute the summaries analytically and the most naive numerical methods for computing summaries are too expensive. Two techniques do often work well: finding the *maximum a posteriori* (MAP) point using optimization methods, and computing summaries based on samples drawn from the posterior distribution using Markov Chain Monte Carlo (MCMC) sampling methods.\n",
    "\n",
    "####Maximum a posteriori methods\n",
    "\n",
    "The **maximum a posteriori (MAP)** estimate for a model, is the mode of the posterior distribution and is generally found using numercal optimization methods. This is often fast and easy to do, but only gives a point estimate for the parameters and can be biased if the mode isn't representative of the distribution. PyMC3 provides this functionality with the `find_MAP` function.\n",
    "\n",
    "Below we find the MAP for our original model. The MAP is returned as a parameter **point**, which is always represented by a Python dictionary of variable names to NumPy arrays of parameter values. "
   ]
  },
  {
   "cell_type": "code",
   "execution_count": 6,
   "metadata": {
    "collapsed": false
   },
   "outputs": [
    {
     "name": "stdout",
     "output_type": "stream",
     "text": [
      "{'alpha': array(1.0605676036220164), 'beta': array([ 1.35229735,  0.27045947]), 'sigma': array(1.121810658276892)}\n"
     ]
    }
   ],
   "source": [
    "from pymc3 import find_MAP\n",
    "\n",
    "start = find_MAP(model=basic_model)\n",
    "    \n",
    "print(start)"
   ]
  },
  {
   "cell_type": "markdown",
   "metadata": {},
   "source": [
    "By default, this uses Broyden–Fletcher–Goldfarb–Shanno (BFGS) algorithm to find the maximum of the log-posterior but also allows selection of other optimization algorithms from the `scipy.optimize` module. For example, below we use Powell's method to find the MAP."
   ]
  },
  {
   "cell_type": "code",
   "execution_count": 7,
   "metadata": {
    "collapsed": false
   },
   "outputs": [
    {
     "name": "stdout",
     "output_type": "stream",
     "text": [
      "{'alpha': array(1.0609679945531312), 'beta': array([ 1.35085117,  0.27393091]), 'sigma': array(1.1211030610358417)}\n"
     ]
    }
   ],
   "source": [
    "from scipy import optimize\n",
    "\n",
    "start = find_MAP(model=basic_model, fmin=optimize.fmin_powell)\n",
    "    \n",
    "print(start)"
   ]
  },
  {
   "cell_type": "markdown",
   "metadata": {},
   "source": [
    "**WARNING**\n",
    "The MAP point is not always a reasonable estimate, especially if the mode is at an extreme. \n",
    "\n",
    "This can be a subtle issue. With high dimensional posteriors, one can have areas of extremely high density but low total probability because the volume is very small. This will often come up with the two scale parameters for hierarchical models. If the individual group means are all the same, the posterior will have near infinite density if the scale parameter for the group means is almost zero even though the probability of such a small scale parameter will be small since the group means must be extremely close together.\n",
    "\n",
    "Most techniques for finding the MAP point also only find a *local* MAP point, which is often good enough, but can fail badly for multimodal posteriors if the different modes are meaningfully different."
   ]
  },
  {
   "cell_type": "markdown",
   "metadata": {},
   "source": [
    "####Sampling methods\n",
    "\n",
    "Though finding the MAP is a fast and easy way of obtaining estimates of the unknown model parameters, it is not usually satisfactory because there is no associated estimate of uncertainty of the MAP estimates. Instead, a simulation-based approach such as Markov chain Monte Carlo (MCMC) can be used to obtain a Markov chain of values that, given the satisfaction of certain conditions, are indistinguishable from samples from the posterior distribution. \n",
    "\n",
    "To conduct MCMC sampling to generate posterior samples in PyMC3, we instantiate a **step method** object that corresponds to a particular MCMC algorithm, such as Metropolis or Slice sampling or the No-U-Turn Sampler (NUTS). PyMC3's `step_methods` submodule contains the following samplers: `NUTS`, `Metropolis`, `Slice`, `HamiltonianMC`, and `BinaryMetropolis`."
   ]
  },
  {
   "cell_type": "markdown",
   "metadata": {},
   "source": [
    "####Advanced sampling methods\n",
    "\n",
    "PyMC3 has the standard sampling algorithms like adaptive Metropolis-Hastings and adaptive slice sampling, but PyMC3's speciality is the No-U-Turn Sampler (`NUTS`; Hoffman, 2014), a self-tuning variant of Hamiltonian Monte Carlo (HMC; Duane, 1987). HMC and NUTS are especially useful on models that have many parameters (where standard algorithms work very slowly). They take advantage of information about where regions of higher probability are that comes from the gradient of the log posterior-density. This helps them achieve dramatically faster convergence on large problems than traditional sampling methods achieve. PyMC3 relies on Theano to analytically compute model gradients via automatic differentation of the computational of the posterior density. NUTS also has several self-tuning strategies for adaptively setting the tunable parameters of Hamiltonian Monte Carlo. For random variables that are undifferentiable NUTS and HMC cannot be used, but they may still be used for differentiable variables in a model that contains undifferentiable variables. \n",
    "\n",
    "Both NUTS and HMC require a scaling matrix parameter, which is used a bit like the precision matrix for the jump proposal distribution in Metropolis-Hastings, althrough HMC and NUTS use it somewhat differently. The matrix gives the rough shape of the distribution so that NUTS does not make much too large jumps in some directions and much too small jumps in other directions.\n",
    "\n",
    "It is often critical to set this scaling parameter reasonably well for good sampling. This is especially true for models that have many unobserved stochastic random variables or models with highly non-normal posterior distributions. Bad scaling parameters will slow down NUTS significantly, sometimes almost stopping it completely. The starting point for sampling can also be important for efficient sampling, but not as often.\n",
    "\n",
    "Fortunately NUTS can often make good guesses for the scaling parameters. If you pass a point in parameter space (as a dictionary of variable names to parameter values, the same format as returned by `find_MAP`) to HMC or NUTS, they will look at the local curvature of the log posterior-density (the diagonal of the Hessian matrix, the matrix of 2nd derivatives) at that point to make a guess for a good scaling vector. This is often a good value.\n",
    "\n",
    "Though we may not want to use MAP for inference, it is often a good point to use for finding a good scaling vector, as above. It also often makes a good starting point for sampling.\n",
    "\n",
    "It is also possible to supply your own vector or scaling matrix to HMC/NUTS, though this is a more advanced use. If you wish to modify a Hessian at a specific point, to use as your scaling matrix or vector, you can use `find_hessian` or `find_hessian_diag`.\n",
    "\n",
    "For our MCMC example, we will use NUTS to sample 500 draws from the posterior using the MAP as the starting point and scaling point. Remember that our linear regression model was named `basic_model`. We set it as the context again here. "
   ]
  },
  {
   "cell_type": "code",
   "execution_count": 8,
   "metadata": {
    "collapsed": false
   },
   "outputs": [
    {
     "name": "stdout",
     "output_type": "stream",
     "text": [
      " [-----------------100%-----------------] 500 of 500 complete in 2.7 sec"
     ]
    },
    {
     "name": "stderr",
     "output_type": "stream",
     "text": [
      "/usr/lib/python3.4/importlib/_bootstrap.py:321: RuntimeWarning: numpy.ndarray size changed, may indicate binary incompatibility\n",
      "  return f(*args, **kwds)\n"
     ]
    }
   ],
   "source": [
    "from pymc3 import NUTS, sample\n",
    "\n",
    "with basic_model:\n",
    "    \n",
    "    # obtain starting values via MAP\n",
    "    start = find_MAP(fmin=optimize.fmin_powell)\n",
    "    \n",
    "    # instantiate sampler\n",
    "    step = NUTS(scaling=start) \n",
    "    \n",
    "    # draw 500 posterior samples\n",
    "    trace = sample(500, step, start=start) "
   ]
  },
  {
   "cell_type": "markdown",
   "metadata": {},
   "source": [
    "The `sample` function runs the step method(s) passed to it for the given number of iterations and returns a `Trace` object containing the samples collected in the order they were collected. `trace` can be queried in a similar way to a `dict` containing a map from variable names to `numpy.array`s. The first dimension of the array is the sampling index and the later dimensions match the shape of the variable. We can see the last 5 values for the `alpha` variable as follows"
   ]
  },
  {
   "cell_type": "code",
   "execution_count": 9,
   "metadata": {
    "collapsed": false
   },
   "outputs": [
    {
     "data": {
      "text/plain": [
       "array([ 1.15461653,  0.96695149,  1.01096658,  1.37941006,  1.21715399])"
      ]
     },
     "execution_count": 9,
     "metadata": {},
     "output_type": "execute_result"
    }
   ],
   "source": [
    "trace['alpha'][-5:]"
   ]
  },
  {
   "cell_type": "markdown",
   "metadata": {},
   "source": [
    "### Posterior analysis\n",
    "`PyMC3` comes with various statistical and plotting capabilities to examine the output. A simple posterior plot can be created using `pymc3.traceplot`."
   ]
  },
  {
   "cell_type": "code",
   "execution_count": 10,
   "metadata": {
    "collapsed": false
   },
   "outputs": [
    {
     "data": {
      "image/png": "[encoded data removed]",
      "text/plain": [
       "<matplotlib.figure.Figure at 0xae0d4f2c>"
      ]
     },
     "metadata": {},
     "output_type": "display_data"
    }
   ],
   "source": [
    "from pymc3 import traceplot\n",
    "\n",
    "traceplot(trace);"
   ]
  },
  {
   "cell_type": "markdown",
   "metadata": {},
   "source": [
    "The left column consists of a smoothed histogram (kernel density estimation) of the marginal posteriors of each stochastic random variable while the right column contains a line graph of the samples against the sampling index, the trace plot of the Markov chain. As we ran four chains, each subplot will have 4 differently colored lines, one corresponding to each chain. This allows easy visual inspection of all chains.\n",
    "\n",
    "In addition, `pymc3.summary()` provides a text-based output of common posterior statistics:"
   ]
  },
  {
   "cell_type": "code",
   "execution_count": 11,
   "metadata": {
    "collapsed": false
   },
   "outputs": [
    {
     "name": "stdout",
     "output_type": "stream",
     "text": [
      "\n",
      "alpha:\n",
      " \n",
      "  Mean             SD               MC Error         95% HPD interval\n",
      "  -------------------------------------------------------------------\n",
      "  \n",
      "  1.043            0.207            0.013            [0.613, 1.423]\n",
      "\n",
      "  Posterior quantiles:\n",
      "  2.5            25             50             75             97.5\n",
      "  |--------------|==============|==============|--------------|\n",
      "  \n",
      "  0.632          0.910          1.024          1.182          1.463\n",
      "\n",
      "\n",
      "beta:\n",
      " \n",
      "  Mean             SD               MC Error         95% HPD interval\n",
      "  -------------------------------------------------------------------\n",
      "  \n",
      "  1.382            0.392            0.028            [0.603, 2.083]\n",
      "  0.273            1.040            0.060            [-1.690, 2.101]\n",
      "\n",
      "  Posterior quantiles:\n",
      "  2.5            25             50             75             97.5\n",
      "  |--------------|==============|==============|--------------|\n",
      "  \n",
      "  0.606          1.095          1.416          1.651          2.087\n",
      "  -1.645         -0.401         0.273          0.948          2.311\n",
      "\n",
      "\n",
      "sigma:\n",
      " \n",
      "  Mean             SD               MC Error         95% HPD interval\n",
      "  -------------------------------------------------------------------\n",
      "  \n",
      "  1.148            0.081            0.004            [0.987, 1.301]\n",
      "\n",
      "  Posterior quantiles:\n",
      "  2.5            25             50             75             97.5\n",
      "  |--------------|==============|==============|--------------|\n",
      "  \n",
      "  1.003          1.093          1.145          1.198          1.324\n",
      "\n"
     ]
    }
   ],
   "source": [
    "from pymc3 import summary\n",
    "\n",
    "summary(trace)"
   ]
  },
  {
   "cell_type": "markdown",
   "metadata": {},
   "source": [
    "##Case study 1: Stochastic volatility\n",
    "\n",
    "We model how the volatility of the S&P 500 index changes over a one year period to highlight some PyMC3 features. The following model has 400+ parameters so using common sampling algorithms like Metropolis-Hastings would generate uncorrelated samples only very inefficiently. Instead we use the No-U-Turn Sampler, which is dramatically more efficient.\n",
    "\n",
    "The distribution of returns is highly non-normal, which makes sampling the volatlities significantly more difficult. \n",
    "\n",
    "###The Model\n",
    "\n",
    "Asset prices have time-varying volatility (variance of day over day `returns`). In some periods, returns are highly variable, while in others very stable. Stochastic volatility models model this with a latent volatility variable, which changes over time. The following model is similar to the one described in the NUTS paper (Hoffman 2014, p. 21).\n",
    "\n",
    "$$\\begin{aligned} \n",
    "  \\sigma &\\sim exp(50) \\\\\n",
    "  \\nu &\\sim exp(.1) \\\\\n",
    "  s_i &\\sim \\mathcal{N}(s_{i-1}, \\sigma^{-2}) \\\\\n",
    "  log(y_i) &\\sim t(\\nu, 0, exp(-2 s_i))\n",
    "\\end{aligned}$$\n",
    "\n",
    "Here, $y$ is the daily return series which are modeled with a student-t distribution an unknown degrees of freedom and a scale parameter determined by a latent process $s$. The individual $s_i$ are the individual daily log volatilities in the latent log volatility process. "
   ]
  },
  {
   "cell_type": "markdown",
   "metadata": {},
   "source": [
    "###The Data\n",
    "\n",
    "First we load the last 400 daily returns of the S&P 500."
   ]
  },
  {
   "cell_type": "code",
   "execution_count": 12,
   "metadata": {
    "collapsed": false
   },
   "outputs": [
    {
     "data": {
      "image/png": "[encoded data removed]",
      "text/plain": [
       "<matplotlib.figure.Figure at 0xada8914c>"
      ]
     },
     "metadata": {},
     "output_type": "display_data"
    }
   ],
   "source": [
    "n = 400\n",
    "returns = np.genfromtxt(\"data/SP500.csv\")[-n:]\n",
    "pylab.plot(returns);"
   ]
  },
  {
   "cell_type": "markdown",
   "metadata": {},
   "source": [
    "###Model Specification\n",
    "Specifying the model in PyMC3 mirrors its statistical specification. \n",
    "\n",
    "Here we use several new distributions the `Exponential` distribution for the $ \\nu $ and $\\sigma$ priors, the student-t (`T`) distribution for distribution of returns, and the `GaussianRandomWalk` for the prior for the latent volatilities.   \n",
    "\n",
    "It is easier to sample the scale of the log volatility process innovations, $\\sigma$, on a log scale, so we create it using `TransformedVar` and use `logtransform`. `TransformedVar` creates one variable in the transformed space and one in the normal space. The one in the transformed space (here $\\text{log}(\\sigma) $) is the one over which sampling will occur, and the one in the normal space is the one to use throughout the rest of the model.\n",
    "\n",
    "It takes a variable name, a distribution and a transformation to use.\n",
    "\n",
    "We can also provide a test value for any distribution using the `testval` argument. This overrides the default test value for the distribution (usually the mean, median or mode of the distribution), and is most often useful if some values are illegal and we want to ensure we select a legal one. The test values for the distributions are also used as a starting point for sampling and optimization by default, though this is easily overriden. \n",
    "\n",
    "The `s` vector is given a prior distribution by `GaussianRandomWalk`. As its name suggests GaussianRandomWalk is a vector valued distribution where the values of the vector form a random normal walk of length n (specified by `shape=n`). \n",
    "\n",
    "The `shape` argument used on the `GaussianRandomWalk` is available for all distributions and specifies the length of the vector.\n",
    "\n",
    "The scale of the innovations of the random walk, `sigma`, is specified in terms of the precision of the normally distributed innovations and can be a scalar or vector. "
   ]
  },
  {
   "cell_type": "code",
   "execution_count": 13,
   "metadata": {
    "collapsed": false
   },
   "outputs": [],
   "source": [
    "from pymc3 import Exponential, T, logtransform, exp, Deterministic\n",
    "from pymc3.distributions.timeseries import GaussianRandomWalk\n",
    "\n",
    "with Model() as sp500_model:\n",
    "    \n",
    "    nu = Exponential('nu', 1./10, testval=.1)\n",
    "    \n",
    "    sigma, log_sigma = sp500_model.TransformedVar('sigma', Exponential.dist(1./.02, testval=.1),\n",
    "                                            logtransform)\n",
    "    \n",
    "    s = GaussianRandomWalk('s', sigma**-2, shape=n)\n",
    "    \n",
    "    volatility_process = Deterministic('volatility_process', exp(s))\n",
    "    \n",
    "    r = T('r', nu, lam=exp(-2*s), observed=returns)"
   ]
  },
  {
   "cell_type": "markdown",
   "metadata": {},
   "source": [
    "Notice we transform the log volatility process `s` into the precision volatility process by `exp(-2*s)` because the student-t distributions is parameterized by the precision. The `exp()` function comes from Theano (imported through PyMC), which provides a wide varitety of common scientific computing funtions (and some uncommon ones).\n",
    "\n",
    "We tell the model that the \"volatility_process\" random variable is an important deterministic variable by using the `Deterministic` constructor. This gives it a name and causes the variable to be recorded during sampling by default.\n",
    "\n",
    "Also note that\n",
    "\n",
    "```python \n",
    "with Model() as sp500_model:\n",
    "```\n",
    "\n",
    "is the same as \n",
    "\n",
    "```python \n",
    "sp500 = Model()\n",
    "with sp500_model: \n",
    "```"
   ]
  },
  {
   "cell_type": "markdown",
   "metadata": {},
   "source": [
    "###Fitting\n",
    "Before we can draw samples from the posterior, we want to find a decent starting point by finding a point of relatively high probability. For this model, the full *maximum a posteriori* (MAP) point over all variables is degenerate and has infinite density. But, if we fix `log_sigma` and `nu` it is no longer degenerate, so we find the MAP with respect only to the volatility process, 's', keeping `log_sigma` and `nu` constant at their default values (remember that we set `testval=.1` for `sigma`).\n",
    "\n",
    "We use Limited-memory BFGS (L-BFGS), which is provided by the `scipy.optimize` package, as it is more efficient for high dimensional functions and we have 400 stochastic random variables (mostly from `s`)."
   ]
  },
  {
   "cell_type": "markdown",
   "metadata": {},
   "source": [
    "To do the sampling, we do a short initial run to put us in a volume of high probability, then start again at the new starting point. `trace[-1]` gives us the last point in the sampling trace. NUTS will recalculate the scaling parameters based on the new point, and in this case it leads to faster sampling due to better scaling."
   ]
  },
  {
   "cell_type": "code",
   "execution_count": 14,
   "metadata": {
    "collapsed": false
   },
   "outputs": [
    {
     "name": "stdout",
     "output_type": "stream",
     "text": [
      " [-----------------100%-----------------] 10000 of 10000 complete in 1961.8 sec"
     ]
    }
   ],
   "source": [
    "import scipy\n",
    "with sp500_model:\n",
    "    start = find_MAP(vars=[s], fmin=scipy.optimize.fmin_l_bfgs_b)\n",
    "    \n",
    "    step = NUTS(scaling=start)\n",
    "    trace = sample(500, step, progressbar=False)\n",
    "\n",
    "    # Start next run at the last sampled position.\n",
    "    step = NUTS(scaling=trace[-1], gamma=.25)\n",
    "    trace = sample(10000, step, start=trace[-1])"
   ]
  },
  {
   "cell_type": "markdown",
   "metadata": {},
   "source": [
    "We also take advantage of multithreading, running 4 chains in parallel, by specifying `njobs=4`. That causes the `sample` function to return a `MultiTrace` object which works slightly differently than the `Trace` object. We can convert it to vanilla `Trace` object by using `merge_traces`."
   ]
  },
  {
   "cell_type": "markdown",
   "metadata": {},
   "source": [
    "We can check basic convergence by looking at the traceplot for `nu` and `log_sigma`."
   ]
  },
  {
   "cell_type": "code",
   "execution_count": 15,
   "metadata": {
    "collapsed": false
   },
   "outputs": [
    {
     "data": {
      "image/png": "[encoded data removed]",
      "text/plain": [
       "<matplotlib.figure.Figure at 0xae64540c>"
      ]
     },
     "metadata": {},
     "output_type": "display_data"
    }
   ],
   "source": [
    "#figsize(12,6)\n",
    "traceplot(trace, [nu, log_sigma]);"
   ]
  },
  {
   "cell_type": "markdown",
   "metadata": {},
   "source": [
    "Finally we plot the distribution of volatility paths by plotting many of our sampled volatility paths on the same graph. Each is partially transparent so the regions where many paths overlap are shaded more darkly."
   ]
  },
  {
   "cell_type": "code",
   "execution_count": 16,
   "metadata": {
    "collapsed": false
   },
   "outputs": [
    {
     "data": {
      "image/png": "[encoded data removed]",
      "text/plain": [
       "<matplotlib.figure.Figure at 0xad65fdec>"
      ]
     },
     "metadata": {},
     "output_type": "display_data"
    }
   ],
   "source": [
    "#figsize(12,6);\n",
    "pylab.title(str(volatility_process));\n",
    "pylab.plot(trace[volatility_process][::10].T,'b', alpha=.03);\n",
    "pylab.xlabel('time');\n",
    "pylab.ylabel('volatility');"
   ]
  },
  {
   "cell_type": "markdown",
   "metadata": {},
   "source": [
    "## Case study 2: Occupancy estimation\n",
    "\n",
    "Ecologists often use survey data to make inferences regarding the abundance and distribution of plants and animals. Such survey data are often *zero-inflated*, whereby there are more zeros than you would expect if the data were distributed according to some common distribution. This is sometimes due to habitat heterogeneity, which causes areas of low quality to be unoccupied by a particular species. However, some sites may be unoccupied simply due to chance.\n",
    "\n",
    "Here is an example of such data; each element in the array (n=100) represents a count of a particular species among a set of sites. The data are clearly zero-inflated:"
   ]
  },
  {
   "cell_type": "code",
   "execution_count": 17,
   "metadata": {
    "collapsed": false
   },
   "outputs": [
    {
     "data": {
      "image/png": "[encoded data removed]",
      "text/plain": [
       "<matplotlib.figure.Figure at 0xa6ebcbcc>"
      ]
     },
     "metadata": {},
     "output_type": "display_data"
    }
   ],
   "source": [
    "y = np.array([0, 2, 1, 0, 4, 2, 0, 0, 4, 0, 0, 0, 0, 0, 3, 0, 0, 6, 0, 0, 0, 2, 1,\n",
    "       2, 0, 0, 0, 1, 0, 0, 0, 4, 2, 0, 0, 0, 1, 0, 2, 4, 0, 0, 1, 0, 0, 0,\n",
    "       0, 0, 2, 0, 2, 0, 0, 0, 0, 0, 1, 0, 0, 0, 0, 0, 0, 0, 0, 2, 1, 0, 0,\n",
    "       0, 0, 3, 0, 2, 0, 1, 2, 2, 2, 2, 3, 0, 0, 0, 0, 1, 0, 3, 1, 0, 0, 0,\n",
    "       0, 0, 2, 0, 0, 1, 0, 0])\n",
    "\n",
    "pylab.hist(y, bins=range(7));"
   ]
  },
  {
   "cell_type": "markdown",
   "metadata": {},
   "source": [
    "We can use a *mixture model* to represent this data. The mixture model contains two components an occupancy component, which determines whether a patch is suitable or not, and an abundance component that models the counts of organisms, conditional on occupancy. Given a random site, we can imagine it is inhabitable with some probability $p$ and uninhabitable with probability $1-p$. If it is inhabitable then it has an Poisson distributed organism count. If it is uninhabitable then it has a 0 organism count.\n",
    "\n",
    "$$\\begin{aligned}\n",
    "  p &\\sim Beta(1,1) \\\\\n",
    "  \\theta &\\sim Unif(0,100) \\\\\n",
    "  z_i &\\sim Bernoulli(p) \\\\\n",
    "  y_i &\\sim ZPois(\\theta, z_i) \n",
    "\\end{aligned}$$\n",
    "\n",
    "PyMC3 includes a zero-inflated Poisson distribution among its standard distributions, which takes a conditional mean parameter as well as an array of indicators for the excess zeros. Since we do not know which zeros are excess a priori, this array is an unknown stochastic node in the model, distributed as a Bernoulli random variable, with a hyperparameter representing the occupancy rate."
   ]
  },
  {
   "cell_type": "code",
   "execution_count": 18,
   "metadata": {
    "collapsed": false
   },
   "outputs": [],
   "source": [
    "from pymc3 import Beta, Bernoulli, ZeroInflatedPoisson, Uniform, Poisson\n",
    "\n",
    "with Model() as zip_model:\n",
    "    \n",
    "    # Estimated occupancy\n",
    "    p = Beta('p', 1, 1)\n",
    "\n",
    "    # Latent variable for occupancy\n",
    "    z = Bernoulli('z', p, shape=y.shape)\n",
    "\n",
    "    # Estimated mean count\n",
    "    theta = Uniform('theta', 0, 100)\n",
    "\n",
    "    # Poisson likelihood\n",
    "    yd = ZeroInflatedPoisson('y', theta, z, observed=y)"
   ]
  },
  {
   "cell_type": "markdown",
   "metadata": {},
   "source": [
    "Notice that this model includes discrete random variables, the latent occupancy indicators. Hence, we cannot use a gradient-based MCMC step method like HMC or NUTS. Instead, we will sample using a `BinaryMetropolis` sampler that proposes only binary values at each iteration for `z`; for the continuous-valued parameters, `theta` and `p` we will use a standard `Metropolis` sampler. \n",
    "\n",
    "We sample with both samplers at once by passing them to `sample` in a list. Each new sample is generated by first applying `step1` then `step2`."
   ]
  },
  {
   "cell_type": "code",
   "execution_count": 19,
   "metadata": {
    "collapsed": false
   },
   "outputs": [
    {
     "name": "stdout",
     "output_type": "stream",
     "text": [
      " [-----------------100%-----------------] 10000 of 10000 complete in 10.9 sec"
     ]
    }
   ],
   "source": [
    "from pymc3 import Metropolis, BinaryMetropolis, sample \n",
    "\n",
    "with zip_model:\n",
    "    \n",
    "    start = {'p': 0.5, 'z': (y > 0), 'theta': 5, 'yd_missing': np.array([1,1])}\n",
    "    \n",
    "\n",
    "    step1 = Metropolis([theta, p])\n",
    "\n",
    "    step2 = BinaryMetropolis([z])\n",
    "\n",
    "    trace = sample(10000, [step1, step2], start)"
   ]
  },
  {
   "cell_type": "markdown",
   "metadata": {},
   "source": [
    "The resulting posteriors for the unknown parameters suggest an occupancy rate in the neighborhood of 0.3 to 0.35, and an expected count (conditional on occupancy) of just over 2."
   ]
  },
  {
   "cell_type": "markdown",
   "metadata": {},
   "source": [
    "## Arbitrary deterministics\n",
    "\n",
    "Through Theano, PyMC3 provides many mathematical functions and operators for transforming random variables into new random variables. Of course these may not cover all cases you might have, therefore Theano and PyMC3 provide functionality for creating your own arbitrary Theano functions in pure Python. This is supported with the `as_op` function decorator.\n",
    "\n",
    "Theano needs to know the types of the inputs and outputs of a function, which are specified for `as_op` by `itypes` for inputs and `otypes` for outputs. For an overview of the available types, see http://deeplearning.net/software/theano/library/tensor/basic.html#all-fully-typed-constructors."
   ]
  },
  {
   "cell_type": "code",
   "execution_count": 20,
   "metadata": {
    "collapsed": false
   },
   "outputs": [],
   "source": [
    "import theano.tensor as T \n",
    "from theano.compile.ops import as_op\n",
    "\n",
    "@as_op(itypes=[T.lscalar], otypes=[T.lscalar])\n",
    "def crazy_modulo3(value):\n",
    "    if value > 0: \n",
    "        return value % 3\n",
    "    else :\n",
    "        return (-value + 1) % 3\n",
    "    \n",
    "with Model() as model_deterministic:\n",
    "    a = Poisson('a', 1)\n",
    "    b = crazy_modulo3(a)"
   ]
  },
  {
   "cell_type": "markdown",
   "metadata": {},
   "source": [
    "**Note**: Because this function is now a blackbox function it is not possible for `theano` to inspect it and compute the gradient required for the Hamiltonian samplers. It is thus not possible to use the HMC or NUTS samplers for a model that uses such an operator and you have to use e.g. `Metropolis` or `Slice` sampling. However, it is possible to add a gradient if we inherit from `theano.Op` instead of using `as_op`."
   ]
  },
  {
   "cell_type": "markdown",
   "metadata": {},
   "source": [
    "For a more elaborate example of the usage of `as_op` we refer to the coal mining disaster model: https://github.com/pymc-devs/pymc/blob/master/pymc/examples/disaster_model_arbitrary_deterministic.py."
   ]
  },
  {
   "cell_type": "markdown",
   "metadata": {},
   "source": [
    "## Arbitrary distributions\n",
    "\n",
    "In some cases, PyMC3 will not have a premade distribution for what you need. In these cases you will need to make our own custom distribution. There are two ways to do this. \n",
    "\n",
    "For simple cases use `DensityDist`, which is a distribution that takes a function that calculates $log(p(x))$ where $p$ is the probability density function of the distribution. This computation may include other random variables.\n",
    "\n",
    "Below is an example inspired by a blog post by Jake Vanderplas on which priors to use for a linear regression (Vanderplas, 2014). For more detail on the derivation of these priors we refer to the blog post."
   ]
  },
  {
   "cell_type": "code",
   "execution_count": 21,
   "metadata": {
    "collapsed": true
   },
   "outputs": [],
   "source": [
    "import theano.tensor as T\n",
    "from pymc3 import DensityDist\n",
    "\n",
    "with Model() as model:\n",
    "    alpha = Uniform('intercept', -100, 100)\n",
    "    \n",
    "    # Create custom densities\n",
    "    beta = DensityDist('slope', lambda value: -1.5 * T.log(1 + value**2), testval=0)\n",
    "    eps = DensityDist('sigma', lambda value: -T.log(T.abs_(value)), testval=1)\n",
    "    \n",
    "    # Create likelihood\n",
    "    like = Normal('y_est', mu=alpha + beta * X, sd=eps, observed=Y)"
   ]
  },
  {
   "cell_type": "markdown",
   "metadata": {},
   "source": [
    "For more complex distributions, make a class that inherits from `Continuous` or `Discrete` and provide the `logp` function. This is the way the predefined distributions are written.\n",
    "\n",
    "Many scientific fields including psychology and astrophysics have complex likelihood functions which are often a model of the process in question and have a complex form that may require numerical approximation. In these cases it is impossible to write the function in terms of predefined theano operators and we must use a custom theano operator using `as_op` or inheriting from `theano.Op`. \n",
    "\n",
    "Below we make a distribution like the one for `beta` above but with a mean parameter by making a class that inherits from `Continuous`. The distribution is usable in the normal way. We also use a custom operator using the `as_op` decorator, though this is not necessary."
   ]
  },
  {
   "cell_type": "code",
   "execution_count": 22,
   "metadata": {
    "collapsed": false
   },
   "outputs": [],
   "source": [
    "class Beta(pymc3.distributions.Continuous):\n",
    "    def __init__(self, mu, *args, **kwargs):\n",
    "        super(Beta, self).__init__(*args, **kwargs)\n",
    "        self.mu = mu\n",
    "        self.mode = mu\n",
    "\n",
    "    def logp(self, value):\n",
    "        mu = self.mu\n",
    "        return beta_logp(value - mu)\n",
    "    \n",
    "@as_op(itypes=[T.dscalar], otypes=[T.dscalar])\n",
    "def beta_logp(value):\n",
    "    return -1.5 * np.log(1 + (value)**2)\n",
    "\n",
    "\n",
    "with Model() as model:\n",
    "    beta = Beta('slope', mu=0, testval=0)"
   ]
  },
  {
   "cell_type": "markdown",
   "metadata": {},
   "source": [
    "# Generalized Linear Models\n",
    "\n",
    "Generalized Linear Models (GLMs) are a class of widely used and flexible models to estimate relationships between a single outcome variable and one or multiple predictors. Because these models are so common, `PyMC3` offers a `glm` submodule that allows flexible creation of various GLMs with an intuitive `R`-like syntax that is implemented via the `patsy` module.\n",
    "\n",
    "As the `glm` submodule requires data to be a `pandas` `DataFrame` we first have to convert our linear regression data `X` and `Y`:"
   ]
  },
  {
   "cell_type": "code",
   "execution_count": 23,
   "metadata": {
    "collapsed": false
   },
   "outputs": [],
   "source": [
    "# Convert X and Y to a pandas DataFrame\n",
    "import pandas \n",
    "df = pandas.DataFrame({'x': X, 'y': Y})"
   ]
  },
  {
   "cell_type": "markdown",
   "metadata": {},
   "source": [
    "The above linear regression can then equivalently be written with the `glm` module as follows:"
   ]
  },
  {
   "cell_type": "code",
   "execution_count": 24,
   "metadata": {
    "collapsed": false
   },
   "outputs": [],
   "source": [
    "with Model() as model_glm:\n",
    "    pymc3.glm.glm('y ~ x', df)"
   ]
  },
  {
   "cell_type": "markdown",
   "metadata": {},
   "source": [
    "The `glm` doc string provides an overview of the capabilities."
   ]
  },
  {
   "cell_type": "code",
   "execution_count": 25,
   "metadata": {
    "collapsed": false
   },
   "outputs": [
    {
     "name": "stdout",
     "output_type": "stream",
     "text": [
      "Help on function glm in module pymc3.glm.glm:\n",
      "\n",
      "glm(*args, **kwargs)\n",
      "    Create GLM after Patsy model specification string.\n",
      "    \n",
      "    Parameters\n",
      "    ----------\n",
      "    formula : str\n",
      "        Patsy linear model descriptor.\n",
      "    data : array\n",
      "        Labeled array (e.g. pandas DataFrame, recarray).\n",
      "    priors : dict\n",
      "        Mapping prior name to prior distribution.\n",
      "        E.g. {'Intercept': Normal.dist(mu=0, sd=1)}\n",
      "    intercept_prior : pymc3 distribution\n",
      "        Prior to use for the intercept.\n",
      "        Default: Normal.dist(mu=0, tau=1.0E-12)\n",
      "    regressor_prior : pymc3 distribution\n",
      "        Prior to use for all regressor(s).\n",
      "        Default: Normal.dist(mu=0, tau=1.0E-12)\n",
      "    init_vals : dict\n",
      "        Set starting values externally: parameter -> value\n",
      "        Default: None\n",
      "    family : Family object\n",
      "        Distribution of likelihood, see pymc3.glm.families\n",
      "        (init has to be True).\n",
      "    \n",
      "    Output\n",
      "    ------\n",
      "    vars : List of created random variables (y_est, coefficients etc)\n",
      "    \n",
      "    Example\n",
      "    -------\n",
      "    # Logistic regression\n",
      "    vars = glm('male ~ height + weight',\n",
      "               data,\n",
      "               family=glm.families.Binomial(link=glm.families.logit))\n",
      "\n"
     ]
    }
   ],
   "source": [
    "help(pymc3.glm.glm)"
   ]
  },
  {
   "cell_type": "markdown",
   "metadata": {},
   "source": [
    "We can thus also specify a logistic regression by passing in a `Binomial` family object."
   ]
  },
  {
   "cell_type": "code",
   "execution_count": 26,
   "metadata": {
    "collapsed": false
   },
   "outputs": [],
   "source": [
    "df_logistic = pandas.DataFrame({'x': X, 'y': Y > 0})\n",
    "\n",
    "with Model() as model_glm_logistic:\n",
    "    pymc3.glm.glm('y ~ x', \n",
    "               df_logistic,\n",
    "               family=pymc3.glm.families.Binomial()\n",
    "    )"
   ]
  },
  {
   "cell_type": "markdown",
   "metadata": {},
   "source": [
    "## Backends\n",
    "\n",
    "`PyMC3` has support for different ways to store samples during and after sampling, called backends, including in-memory (default), text file, and SQLite. These can be found in `pymc.backends`:\n",
    "\n",
    "By default, an in-memory `ndarray` is used but if the samples would get too large to be held in memory we could use the `sqlite` backend:"
   ]
  },
  {
   "cell_type": "code",
   "execution_count": 27,
   "metadata": {
    "collapsed": false
   },
   "outputs": [
    {
     "name": "stdout",
     "output_type": "stream",
     "text": [
      " [-----------------100%-----------------] 500 of 500 complete in 0.6 sec"
     ]
    }
   ],
   "source": [
    "with basic_model:\n",
    "    backend = pymc3.backends.SQLite('trace.sqlite2')\n",
    "    trace = sample(500, Metropolis(), trace=backend)"
   ]
  },
  {
   "cell_type": "markdown",
   "metadata": {},
   "source": [
    "The stored trace can then later be loaded using the `load` command:"
   ]
  },
  {
   "cell_type": "code",
   "execution_count": 28,
   "metadata": {
    "collapsed": false
   },
   "outputs": [
    {
     "data": {
      "text/plain": [
       "<MultiTrace: 1 chains, 3500 iterations, 3 variables>"
      ]
     },
     "execution_count": 28,
     "metadata": {},
     "output_type": "execute_result"
    }
   ],
   "source": [
    "with basic_model:\n",
    "    trace_loaded = pymc3.backends.sqlite.load('trace.sqlite')\n",
    "    \n",
    "trace_loaded "
   ]
  },
  {
   "cell_type": "markdown",
   "metadata": {},
   "source": [
    "More information about `backends` can be found in the docstring of `pymc.backends`."
   ]
  },
  {
   "cell_type": "markdown",
   "metadata": {},
   "source": [
    "## References\n",
    "\n",
    "Patil, A., D. Huard and C.J. Fonnesbeck. (2010) PyMC: Bayesian Stochastic Modelling in Python. Journal of Statistical Software, 35(4), pp. 1-81\n",
    "\n",
    "Bastien, F., Lamblin, P., Pascanu, R., Bergstra, J., Goodfellow, I., Bergeron, A., Bouchard, N., Warde-Farley, D., and Bengio, Y. (2012) “Theano: new features and speed improvements”. NIPS 2012 deep learning workshop.\n",
    "\n",
    "Bergstra, J., Breuleux, O., Bastien, F., Lamblin, P., Pascanu, R., Desjardins, G., Turian, J., Warde-Farley, D., and Bengio, Y. (2010) “Theano: A CPU and GPU Math Expression Compiler”. Proceedings of the Python for Scientific Computing Conference (SciPy) 2010. June 30 - July 3, Austin, TX\n",
    "\n",
    "Lunn, D.J., Thomas, A., Best, N., and Spiegelhalter, D. (2000) WinBUGS -- a Bayesian modelling framework: concepts, structure, and extensibility. Statistics and Computing, 10:325--337.\n",
    "\n",
    "Neal, R.M. Slice sampling. Annals of Statistics. (2003). doi:10.2307/3448413.\n",
    "\n",
    "van Rossum, G. The Python Library Reference Release 2.6.5., (2010). URL http://docs.python.org/library/.\n",
    "\n",
    "Duane, S., Kennedy, A. D., Pendleton, B. J., and Roweth, D. (1987) “Hybrid Monte Carlo”, Physics Letters, vol. 195, pp. 216-222.\n",
    "\n",
    "Stan Development Team. (2014). Stan: A C++ Library for Probability and Sampling, Version 2.5.0.   http://mc-stan.org. \n",
    "\n",
    "Gamerman, D. Markov Chain Monte Carlo: statistical simulation for Bayesian inference. Chapman and Hall, 1997.\n",
    "\n",
    "Hoffman, M. D., & Gelman, A. (2014). The No-U-Turn Sampler: Adaptively Setting Path Lengths in Hamiltonian Monte Carlo. The Journal of Machine Learning Research, 30.\n",
    "\n",
    "Vanderplas, Jake. \"Frequentism and Bayesianism IV: How to be a Bayesian in Python.\" Pythonic Perambulations. N.p., 14 Jun 2014. Web. 27 May. 2015. <https://jakevdp.github.io/blog/2014/06/14/frequentism-and-bayesianism-4-bayesian-in-python/>."
   ]
  }
 ],
 "metadata": {
  "kernelspec": {
   "display_name": "Python 3",
   "language": "python",
   "name": "python3"
  },
  "language_info": {
   "codemirror_mode": {
    "name": "ipython",
    "version": 3
   },
   "file_extension": ".py",
   "mimetype": "text/x-python",
   "name": "python",
   "nbconvert_exporter": "python",
   "pygments_lexer": "ipython3",
   "version": "3.4.2"
  }
 },
 "nbformat": 4,
 "nbformat_minor": 0
}
